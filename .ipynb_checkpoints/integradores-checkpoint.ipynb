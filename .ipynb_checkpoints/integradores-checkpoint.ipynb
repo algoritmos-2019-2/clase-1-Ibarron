{
 "cells": [
  {
   "cell_type": "markdown",
   "metadata": {},
   "source": [
    "### Metodo de Euler\n",
    "\n",
    "Consideremos la siguiente ecuación diferencial \n",
    "\n",
    "\n",
    "\\begin{equation}\n",
    "\\dfrac{d x(t)}{dt} = F(t,x,\\lambda )\n",
    "\\end{equation}\n",
    "\n",
    "con condición inicial $x(a) = b$ en el intervalo $[\\alpha, \\beta]$, si escribimos la expansión en serie de Taylor de $x$ alrededor de $ t_0 =t - h$ tenemos:\n",
    "\n",
    "$x(t) = x(t_0) + x'(t_0)(t -t_0)+ \\Theta(\\vert t - t_0  \\vert ^2)$, si $0<h<<1$ entonces $0<t_0<<1$ por lo que podemos despreciar los terminos de orden superior a dos por lo tanto, $x(t) \\approx x(t_0) + x'(t_0)(t -t_0)$, esto se puede escribir como $x(t + h) \\approx x(t) + x'(t)(h) \\Longrightarrow  x(t + h) \\approx x(t) + F(t,x,\\lambda )h$ , lo cual nos genera una relación de recurrencia para aproximar la solución de la ODE esta relación es\n",
    "\n",
    "\n",
    "$$ x_{n+1} = x_{n} + F(t_n,x_n,\\lambda )h $$\n",
    "\n",
    "considerando $t_0 = a, x_0=b$ y el paso en $t_{n+1} = t_n + h$, del método tenemos todo execto $h$ pero este lo podemos tomar como $h = \\frac{\\beta - \\alpha}{N}$ con $N$ el número de puntos en el intervalo donde se busca encontrar la solución \n"
   ]
  },
  {
   "cell_type": "code",
   "execution_count": 1,
   "metadata": {},
   "outputs": [],
   "source": [
    "from numpy import*\n",
    "from pylab import*\n",
    "%matplotlib inline"
   ]
  },
  {
   "cell_type": "code",
   "execution_count": 5,
   "metadata": {},
   "outputs": [],
   "source": [
    "def ff(x,t,l):\n",
    "    return -l*x"
   ]
  },
  {
   "cell_type": "code",
   "execution_count": 6,
   "metadata": {},
   "outputs": [
    {
     "data": {
      "text/plain": [
       "-1"
      ]
     },
     "execution_count": 6,
     "metadata": {},
     "output_type": "execute_result"
    }
   ],
   "source": [
    "ff(1,0,1)"
   ]
  },
  {
   "cell_type": "code",
   "execution_count": 7,
   "metadata": {},
   "outputs": [],
   "source": [
    "def metodo_euler(f, intervalo, t0, condini, para ,n):\n",
    "    x = linspace(intervalo[0], intervalo[1], n)\n",
    "    y = []\n",
    "    i = 0\n",
    "    h = (intervalo[1] - intervalo[0])/n\n",
    "    #condt = condini[0]\n",
    "    #condx = condini[0]\n",
    "    condx = condini[0]\n",
    "    while i < n:\n",
    "        #print condx\n",
    "        y.append(condx)\n",
    "        #print y\n",
    "        condx = condx + f(condx,t0,para)*h\n",
    "        t0 = t0 + h\n",
    "        i +=1 \n",
    "    \n",
    "    return x,y"
   ]
  },
  {
   "cell_type": "code",
   "execution_count": 8,
   "metadata": {},
   "outputs": [],
   "source": [
    "xsole, ysole = metodo_euler(ff, (0.,5.), 0.0 , [1.0], 3,1000)"
   ]
  },
  {
   "cell_type": "code",
   "execution_count": 9,
   "metadata": {},
   "outputs": [
    {
     "data": {
      "text/plain": [
       "[<matplotlib.lines.Line2D at 0x7f7d74c909b0>]"
      ]
     },
     "execution_count": 9,
     "metadata": {},
     "output_type": "execute_result"
    },
    {
     "data": {
      "image/png": "[encoded data removed]",
      "text/plain": [
       "<Figure size 432x288 with 1 Axes>"
      ]
     },
     "metadata": {
      "needs_background": "light"
     },
     "output_type": "display_data"
    }
   ],
   "source": [
    "plot(xsole, ysole)\n",
    "#plot(x,sol)"
   ]
  },
  {
   "cell_type": "markdown",
   "metadata": {},
   "source": [
    "### Existe una mejora para el metodo de Euler\n",
    "\n",
    "A este se le conoce como método mejorado de Euler o de Heun y la regla de iteración es:\n",
    "\n",
    "$$x_{n+1} = x_{n} + \\dfrac{f(t_{n}, x_{n}) + f(t_n + h, x_{n} + hf(t_n,x_n))}{2}h$$ Donde $t_{n+1} = t_{n} + h$\n",
    "\n",
    "Implemente el anterior método de integración y comparare con el método de Euler, para el oscilador armónico. En este caso si $f(t,x)$ sólo depende de t y no de $y$, entonces la ecuación diferencial $\\dot{x} = f(t,x)$ se  reduce a resolver  $f(t)$, en este caso se obtiene la fómula del trapecio $$x_{n+1}= x_{n} + \\dfrac{h}{2}\\left[f(t_{n}) + f(t_n +h))\\right]$$"
   ]
  },
  {
   "cell_type": "markdown",
   "metadata": {},
   "source": []
  }
 ],
 "metadata": {
  "kernelspec": {
   "display_name": "Python 3",
   "language": "python",
   "name": "python3"
  },
  "language_info": {
   "codemirror_mode": {
    "name": "ipython",
    "version": 3
   },
   "file_extension": ".py",
   "mimetype": "text/x-python",
   "name": "python",
   "nbconvert_exporter": "python",
   "pygments_lexer": "ipython3",
   "version": "3.7.1"
  }
 },
 "nbformat": 4,
 "nbformat_minor": 2
}
