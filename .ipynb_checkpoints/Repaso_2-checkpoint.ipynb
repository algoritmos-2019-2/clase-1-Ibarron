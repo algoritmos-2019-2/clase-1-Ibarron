{
 "cells": [
  {
   "cell_type": "markdown",
   "metadata": {},
   "source": [
    "# Repaso 2\n",
    "\n",
    "## Algoritmos computacionales\n",
    "\n",
    "Resuelva los siguientes ejercicios. Elija los problemas que guste, cada problema vale 4 puntos.\n",
    "\n",
    "1. Escribe una función que reciba un número entre -9999999 y 9999999 y que regrese el mismo número pero en una cadena con formato rígido de 8 espacios. Por ejemplo, si el número proporcionado es ```3501```, el número que regresa es ```35010000```.\n",
    "    1. Haga una función que regrese el número anterior en orden invertido con el mismo formato rígido de ocho espacios. Es decir, si le proporcionamos ```3501```, el número que regresa es ```53010000```. \n",
    "    \n",
    "    Hint: Utilice la función anterior como primer paso. Si el número es negativo el signo debe tomase en cuenta y dejarlo a la izquierda.\n",
    "    2. Ahora haga una función que regrese la multiplicación de los dígitos distintos de cero. Es decir, si le proporcionamos ```3501```, el número que regresa es ```15``` que viene de multiplicar 3 por 5 y por 1. El número final debe llevar el mismo signo que el número original.\n",
    "\n",
    "2. Se tiene una partícula con carga $q$ y masa $m$ que está en un campo magnético $\\vec B = B_0 \\hat k$. La fuerza sobre la partícula es $\\vec F = q \\vec v \\times \\vec B$.\n",
    "\n",
    "    1. Realice una función que obtenga la solución $x(t)$ y $y(t)$ con condición inicial $x(0)=0$, $y(0)=0$, $v_x(0)=v_{0x}$ y $v_y(0)=v_{0y}$ tales que $v ^2_{0x} + v ^2_{0y} =1$ donde $v _{0x}$ es un número aleatorio entre 0 y 1.\n",
    "\n",
    "    2. Realice la gráfica en el plano $(x,y)$ para 100 trayectorias posibles.\n",
    "\n",
    "3. Realice una función que genere nombres de archivos con el siguiente formato: ```file_###.dat```, donde ```###``` es un número entre 0 y 999 que el usuario proporciona. Por ejemplo, supongamos que la función se llama ```generan_nombre(numero)``` y al utilizarla de la siguiente maneara ```genera_nombre(45)```proporciona el nombre de archivo: ```file_045.dat```.\n",
    "    1. Realice una función que proporciona un número aleatorio entre 0 y 999.\n",
    "    2. Utilice las dos funciones anteriores para generar 100 nombres de manera aleatoria. No importa si los nombres se repiten.\n",
    "    \n",
    "4. Realice una función que se llame ```mi_sinc(x,N_max=10)```, donde ```x``` es un número real y ```N_max``` es un entero que por default es 10. Esta función calcula la siguiente serie\n",
    "$$\n",
    "\\sum ^{N_{max}} _{n=0} \\frac{(-1)^n}{(2n+1)!} x^{2n} = 1-\\frac{x^2}{3!} + \\frac{x^4}{5!} - ...\n",
    "$$\n",
    "    1. Haga la gráfica de la serie anterior en el intervalo $x\\in [-5\\pi,5\\pi]$ con el valor de ```N_max``` que viene por default.\n",
    "    2. Ahora haga la gráfica de la función anterior en el mismo intervalo para $x$ pero ahora con ```N_max = 0,2,4,6,...,20``` y observe la evolución de la serie conforme se aumenta ```N_max```. (Todas las gráficas de este inciso deben estar en la misma gráfica)\n",
    "   "
   ]
  },
  {
   "cell_type": "markdown",
   "metadata": {},
   "source": [
    "1. Escribe una función que reciba un número entre -9999999 y 9999999 y que regrese el mismo número pero en una cadena con formato rígido de 8 espacios. Por ejemplo, si el número proporcionado es ```3501```, el número que regresa es ```35010000```.\n",
    "    1. Haga una función que regrese el número anterior en orden invertido con el mismo formato rígido de ocho espacios. Es decir, si le proporcionamos ```3501```, el número que regresa es ```53010000```. \n",
    "    \n",
    "    Hint: Utilice la función anterior como primer paso. Si el número es negativo el signo debe tomase en cuenta y dejarlo a la izquierda.\n",
    "    2. Ahora haga una función que regrese la multiplicación de los dígitos distintos de cero. Es decir, si le proporcionamos ```3501```, el número que regresa es ```15``` que viene de multiplicar 3 por 5 y por 1. El número final debe llevar el mismo signo que el número original."
   ]
  },
  {
   "cell_type": "code",
   "execution_count": 46,
   "metadata": {},
   "outputs": [],
   "source": [
    "def nume(n):\n",
    "    x1=str(n)\n",
    "    cadenat= []\n",
    "    for i in x1:\n",
    "        cadenat.append(i)\n",
    "#print (cadenat)\n",
    "    y=len(cadenat)\n",
    "#print (y)\n",
    "    while len(cadenat)<8:\n",
    "        cadenat.append (str(0))\n",
    "        if cadenat[0]== str(\"-\"):\n",
    "            cadenat.append(str(0))\n",
    "    #return cadenat\n",
    "    cadenajp=\"\".join (cadenat)\n",
    "    print(cadenajp)\n",
    "    if cadenat[0] == str(\"-\"):\n",
    "        cadenat.remove(\"-\")\n",
    "        cadena_invertida = cadenat[::-1]\n",
    "        cadena_invertida.insert(0,\"-\")\n",
    "        cadenaj=\"\".join (cadena_invertida)\n",
    "        print(cadenaj)\n",
    "    else:\n",
    "        cadena_invertida = cadenat[::-1]\n",
    "        cadenaj=\"\".join (cadena_invertida)\n",
    "        print(cadenaj)\n",
    "    \n",
    "\n",
    "    "
   ]
  },
  {
   "cell_type": "code",
   "execution_count": 47,
   "metadata": {},
   "outputs": [
    {
     "name": "stdout",
     "output_type": "stream",
     "text": [
      "Escribe un numero entre -9999999 y 9999999:-78964\n",
      "-7896400\n",
      "-0046987\n"
     ]
    }
   ],
   "source": [
    "nume(int(input('Escribe un numero entre -9999999 y 9999999:')))\n"
   ]
  },
  {
   "cell_type": "code",
   "execution_count": 21,
   "metadata": {},
   "outputs": [
    {
     "ename": "TypeError",
     "evalue": "'int' object is not iterable",
     "output_type": "error",
     "traceback": [
      "\u001b[0;31m---------------------------------------------------------------------------\u001b[0m",
      "\u001b[0;31mTypeError\u001b[0m                                 Traceback (most recent call last)",
      "\u001b[0;32m<ipython-input-21-f447e9556d15>\u001b[0m in \u001b[0;36m<module>\u001b[0;34m\u001b[0m\n\u001b[1;32m      1\u001b[0m \u001b[0mc\u001b[0m\u001b[0;34m=\u001b[0m\u001b[0;34m[\u001b[0m\u001b[0;34m]\u001b[0m\u001b[0;34m\u001b[0m\u001b[0;34m\u001b[0m\u001b[0m\n\u001b[1;32m      2\u001b[0m \u001b[0mcadenajp\u001b[0m \u001b[0;34m=\u001b[0m\u001b[0;36m35010000\u001b[0m\u001b[0;34m\u001b[0m\u001b[0;34m\u001b[0m\u001b[0m\n\u001b[0;32m----> 3\u001b[0;31m \u001b[0;32mfor\u001b[0m \u001b[0mj\u001b[0m \u001b[0;32min\u001b[0m \u001b[0mcadenajp\u001b[0m\u001b[0;34m:\u001b[0m\u001b[0;34m\u001b[0m\u001b[0;34m\u001b[0m\u001b[0m\n\u001b[0m\u001b[1;32m      4\u001b[0m     \u001b[0mc\u001b[0m\u001b[0;34m.\u001b[0m\u001b[0mappend\u001b[0m\u001b[0;34m(\u001b[0m\u001b[0mi\u001b[0m\u001b[0;34m)\u001b[0m\u001b[0;34m\u001b[0m\u001b[0;34m\u001b[0m\u001b[0m\n\u001b[1;32m      5\u001b[0m \u001b[0mprint\u001b[0m \u001b[0;34m(\u001b[0m\u001b[0mc\u001b[0m\u001b[0;34m)\u001b[0m\u001b[0;34m\u001b[0m\u001b[0;34m\u001b[0m\u001b[0m\n",
      "\u001b[0;31mTypeError\u001b[0m: 'int' object is not iterable"
     ]
    }
   ],
   "source": [
    "c=[]\n",
    "cadenajp = 35010000\n",
    "for j in cadenajp:\n",
    "    c.append(i)\n",
    "print (c)\n",
    "    "
   ]
  },
  {
   "cell_type": "code",
   "execution_count": 40,
   "metadata": {},
   "outputs": [
    {
     "name": "stdout",
     "output_type": "stream",
     "text": [
      "-35010000\n"
     ]
    },
    {
     "ename": "AttributeError",
     "evalue": "'NoneType' object has no attribute 'insert'",
     "output_type": "error",
     "traceback": [
      "\u001b[0;31m---------------------------------------------------------------------------\u001b[0m",
      "\u001b[0;31mAttributeError\u001b[0m                            Traceback (most recent call last)",
      "\u001b[0;32m<ipython-input-40-84cec3fcf911>\u001b[0m in \u001b[0;36m<module>\u001b[0;34m\u001b[0m\n\u001b[1;32m     16\u001b[0m     \u001b[0mcadenat\u001b[0m\u001b[0;34m.\u001b[0m\u001b[0mremove\u001b[0m\u001b[0;34m(\u001b[0m\u001b[0;34m\"-\"\u001b[0m\u001b[0;34m)\u001b[0m\u001b[0;34m\u001b[0m\u001b[0;34m\u001b[0m\u001b[0m\n\u001b[1;32m     17\u001b[0m     \u001b[0mcadena_invertida\u001b[0m \u001b[0;34m=\u001b[0m \u001b[0mcadenat\u001b[0m\u001b[0;34m.\u001b[0m\u001b[0mreverse\u001b[0m\u001b[0;34m(\u001b[0m\u001b[0;34m)\u001b[0m\u001b[0;34m\u001b[0m\u001b[0;34m\u001b[0m\u001b[0m\n\u001b[0;32m---> 18\u001b[0;31m     \u001b[0mcadena_invertida\u001b[0m\u001b[0;34m.\u001b[0m\u001b[0minsert\u001b[0m\u001b[0;34m(\u001b[0m\u001b[0;36m0\u001b[0m\u001b[0;34m,\u001b[0m\u001b[0;34m\"-\"\u001b[0m\u001b[0;34m)\u001b[0m\u001b[0;34m\u001b[0m\u001b[0;34m\u001b[0m\u001b[0m\n\u001b[0m\u001b[1;32m     19\u001b[0m     \u001b[0mprint\u001b[0m\u001b[0;34m(\u001b[0m\u001b[0mcadena_invertida\u001b[0m\u001b[0;34m)\u001b[0m\u001b[0;34m\u001b[0m\u001b[0;34m\u001b[0m\u001b[0m\n\u001b[1;32m     20\u001b[0m     \u001b[0;31m#cadenaj=\"\".join (cadena_invertida)\u001b[0m\u001b[0;34m\u001b[0m\u001b[0;34m\u001b[0m\u001b[0;34m\u001b[0m\u001b[0m\n",
      "\u001b[0;31mAttributeError\u001b[0m: 'NoneType' object has no attribute 'insert'"
     ]
    }
   ],
   "source": [
    "x=-3501\n",
    "x1=str(x)\n",
    "cadenat= []\n",
    "for i in x1:\n",
    "    cadenat.append(i)\n",
    "#print (cadenat)\n",
    "y=len(cadenat)\n",
    "#print (y)\n",
    "while len(cadenat)<8:\n",
    "    cadenat.append (str(0))\n",
    "    if cadenat[0]== str(\"-\"):\n",
    "        cadenat.append(str(0))\n",
    "cadenajp=\"\".join (cadenat)\n",
    "print(cadenajp)\n",
    "if cadenat[0] == str(\"-\"):\n",
    "    cadenat.remove(\"-\")\n",
    "    cadena_invertida = cadenat.reverse()\n",
    "    cadena_invertida.insert(0,\"-\")\n",
    "    print(cadena_invertida)\n",
    "    #cadenaj=\"\".join (cadena_invertida)\n",
    "    #print(cadenaj)\n",
    "else:\n",
    "    cadena_invertida = cadenat.reverse()\n",
    "    print(cadena_invertida)\n",
    "    #cadenaj=\"\".join (cadena_invertida)\n",
    "    #print(cadenaj)\n",
    "#print(cadenat)\n",
    "\n",
    "#for j in cadenat:\n",
    "    #print (j)\n",
    "    #if j>0:\n",
    "        \n",
    "        "
   ]
  },
  {
   "cell_type": "code",
   "execution_count": 61,
   "metadata": {},
   "outputs": [
    {
     "name": "stdout",
     "output_type": "stream",
     "text": [
      "20\n",
      "42\n"
     ]
    },
    {
     "ename": "IndexError",
     "evalue": "list index out of range",
     "output_type": "error",
     "traceback": [
      "\u001b[0;31m---------------------------------------------------------------------------\u001b[0m",
      "\u001b[0;31mIndexError\u001b[0m                                Traceback (most recent call last)",
      "\u001b[0;32m<ipython-input-61-9a449869a53d>\u001b[0m in \u001b[0;36m<module>\u001b[0;34m\u001b[0m\n\u001b[1;32m      7\u001b[0m     \u001b[0;32mreturn\u001b[0m \u001b[0mx\u001b[0m\u001b[0;34m\u001b[0m\u001b[0;34m\u001b[0m\u001b[0m\n\u001b[1;32m      8\u001b[0m \u001b[0;34m\u001b[0m\u001b[0m\n\u001b[0;32m----> 9\u001b[0;31m \u001b[0mprint\u001b[0m \u001b[0;34m(\u001b[0m\u001b[0mdoble_lista\u001b[0m\u001b[0;34m(\u001b[0m\u001b[0mn\u001b[0m\u001b[0;34m)\u001b[0m\u001b[0;34m)\u001b[0m\u001b[0;34m\u001b[0m\u001b[0;34m\u001b[0m\u001b[0m\n\u001b[0m",
      "\u001b[0;32m<ipython-input-61-9a449869a53d>\u001b[0m in \u001b[0;36mdoble_lista\u001b[0;34m(x)\u001b[0m\n\u001b[1;32m      3\u001b[0m     \u001b[0;32mfor\u001b[0m \u001b[0mi\u001b[0m \u001b[0;32min\u001b[0m \u001b[0mrange\u001b[0m\u001b[0;34m(\u001b[0m\u001b[0;36m0\u001b[0m\u001b[0;34m,\u001b[0m \u001b[0mlen\u001b[0m\u001b[0;34m(\u001b[0m\u001b[0mx\u001b[0m\u001b[0;34m)\u001b[0m\u001b[0;34m)\u001b[0m\u001b[0;34m:\u001b[0m\u001b[0;34m\u001b[0m\u001b[0;34m\u001b[0m\u001b[0m\n\u001b[1;32m      4\u001b[0m \u001b[0;34m\u001b[0m\u001b[0m\n\u001b[0;32m----> 5\u001b[0;31m         \u001b[0mx\u001b[0m\u001b[0;34m[\u001b[0m\u001b[0mi\u001b[0m\u001b[0;34m]\u001b[0m\u001b[0;34m=\u001b[0m\u001b[0mx\u001b[0m\u001b[0;34m[\u001b[0m\u001b[0mi\u001b[0m\u001b[0;34m]\u001b[0m\u001b[0;34m*\u001b[0m\u001b[0mx\u001b[0m\u001b[0;34m[\u001b[0m\u001b[0mi\u001b[0m\u001b[0;34m+\u001b[0m\u001b[0;36m1\u001b[0m\u001b[0;34m]\u001b[0m\u001b[0;34m\u001b[0m\u001b[0;34m\u001b[0m\u001b[0m\n\u001b[0m\u001b[1;32m      6\u001b[0m         \u001b[0mprint\u001b[0m \u001b[0;34m(\u001b[0m\u001b[0mx\u001b[0m\u001b[0;34m[\u001b[0m\u001b[0mi\u001b[0m\u001b[0;34m]\u001b[0m\u001b[0;34m+\u001b[0m\u001b[0mx\u001b[0m\u001b[0;34m[\u001b[0m\u001b[0mi\u001b[0m\u001b[0;34m+\u001b[0m\u001b[0;36m1\u001b[0m\u001b[0;34m]\u001b[0m\u001b[0;34m)\u001b[0m\u001b[0;34m\u001b[0m\u001b[0;34m\u001b[0m\u001b[0m\n\u001b[1;32m      7\u001b[0m     \u001b[0;32mreturn\u001b[0m \u001b[0mx\u001b[0m\u001b[0;34m\u001b[0m\u001b[0;34m\u001b[0m\u001b[0m\n",
      "\u001b[0;31mIndexError\u001b[0m: list index out of range"
     ]
    }
   ],
   "source": [
    "n = [3, 5, 7]\n",
    "def doble_lista(x):\n",
    "    for i in range(0, len(x)):\n",
    "        \n",
    "        x[i]=x[i]*x[i+1]\n",
    "        print (x[i]+x[i+1])\n",
    "    return x\n",
    "\n",
    "print (doble_lista(n))"
   ]
  },
  {
   "cell_type": "code",
   "execution_count": null,
   "metadata": {},
   "outputs": [],
   "source": []
  }
 ],
 "metadata": {
  "kernelspec": {
   "display_name": "Python 3",
   "language": "python",
   "name": "python3"
  },
  "language_info": {
   "codemirror_mode": {
    "name": "ipython",
    "version": 3
   },
   "file_extension": ".py",
   "mimetype": "text/x-python",
   "name": "python",
   "nbconvert_exporter": "python",
   "pygments_lexer": "ipython3",
   "version": "3.7.1"
  }
 },
 "nbformat": 4,
 "nbformat_minor": 1
}
