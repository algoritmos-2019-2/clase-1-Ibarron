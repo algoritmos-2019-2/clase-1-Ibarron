{
 "cells": [
  {
   "cell_type": "markdown",
   "metadata": {},
   "source": [
    "# Funciones Lambda"
   ]
  },
  {
   "cell_type": "markdown",
   "metadata": {},
   "source": [
    "Las funciones lambda es una manera sencilla de definir una función en una linea."
   ]
  },
  {
   "cell_type": "code",
   "execution_count": 1,
   "metadata": {},
   "outputs": [],
   "source": [
    "g = lambda x: x**2 + 4"
   ]
  },
  {
   "cell_type": "code",
   "execution_count": 2,
   "metadata": {},
   "outputs": [
    {
     "data": {
      "text/plain": [
       "4"
      ]
     },
     "execution_count": 2,
     "metadata": {},
     "output_type": "execute_result"
    }
   ],
   "source": [
    "g(0)"
   ]
  },
  {
   "cell_type": "code",
   "execution_count": 3,
   "metadata": {},
   "outputs": [],
   "source": [
    "g1= lambda y: 2*y"
   ]
  },
  {
   "cell_type": "code",
   "execution_count": 4,
   "metadata": {},
   "outputs": [
    {
     "data": {
      "text/plain": [
       "6"
      ]
     },
     "execution_count": 4,
     "metadata": {},
     "output_type": "execute_result"
    }
   ],
   "source": [
    "g1(3)"
   ]
  },
  {
   "cell_type": "markdown",
   "metadata": {},
   "source": [
    "La función anterior es equivalente a la siguiente función:\n",
    "```def f(x):\n",
    "    return x**2 + 4```\n",
    "    "
   ]
  },
  {
   "cell_type": "markdown",
   "metadata": {},
   "source": [
    "Lo anterior es $f(x) = x² + 4$\n",
    "\n",
    "\\begin{equation}\n",
    "\\sum_{i=0"
   ]
  },
  {
   "cell_type": "markdown",
   "metadata": {},
   "source": [
    "#  Archivo"
   ]
  },
  {
   "cell_type": "markdown",
   "metadata": {},
   "source": [
    "## Creando archivos"
   ]
  },
  {
   "cell_type": "markdown",
   "metadata": {},
   "source": [
    "Ahora supongamos que por alguna razón necesitamos guardar en un archivo los datos creados en nuestro programa para ellos podemos hacer lo siguiente:"
   ]
  },
  {
   "cell_type": "code",
   "execution_count": 6,
   "metadata": {},
   "outputs": [],
   "source": [
    "f= open(\"file.txt\", \"w\")"
   ]
  },
  {
   "cell_type": "markdown",
   "metadata": {},
   "source": [
    "  Con el método `open ('name', 'w')` El primer argumento es una cadena que contiene el nombre del archivo "
   ]
  },
  {
   "cell_type": "code",
   "execution_count": 7,
   "metadata": {},
   "outputs": [],
   "source": [
    "for i in range (0,10):\n",
    "    f.write (\"This is line %d \\r \\n\" % (i+1))"
   ]
  },
  {
   "cell_type": "code",
   "execution_count": 8,
   "metadata": {},
   "outputs": [],
   "source": [
    "f.close()"
   ]
  },
  {
   "cell_type": "markdown",
   "metadata": {},
   "source": [
    "El fragmento de codigo anteior genera una lista con valores del 0 al 9, en la segunda línea escribe en el archivo la cadena: this is line %d \\r \\n. Aquí tenemos un nuevo operador conocido como pipe %, el cual literal entiba la salida de una variable a una cadena justo en %d. usamos %d para entubar int, %s para str, %f para float, %e para float expresados con notaciones cientificas 10e+2."
   ]
  },
  {
   "cell_type": "code",
   "execution_count": 20,
   "metadata": {},
   "outputs": [],
   "source": [
    "file = open(\"data1.txt\", \"w\")"
   ]
  },
  {
   "cell_type": "code",
   "execution_count": 21,
   "metadata": {},
   "outputs": [],
   "source": [
    "def diff(f, x, h):\n",
    "    return (f(x+h)- f(x-h))/(2*h)"
   ]
  },
  {
   "cell_type": "code",
   "execution_count": 22,
   "metadata": {},
   "outputs": [],
   "source": [
    "a= diff(g, 1.0, 1e-7)"
   ]
  },
  {
   "cell_type": "code",
   "execution_count": 23,
   "metadata": {},
   "outputs": [
    {
     "data": {
      "text/plain": [
       "2.0000000011677344"
      ]
     },
     "execution_count": 23,
     "metadata": {},
     "output_type": "execute_result"
    }
   ],
   "source": [
    "a"
   ]
  },
  {
   "cell_type": "code",
   "execution_count": 24,
   "metadata": {},
   "outputs": [],
   "source": [
    "i = 0.0\n",
    "while i<3:\n",
    "    a= g(i)\n",
    "    b= diff(g, i, 1e-7)\n",
    "    file.write( \"%f %f %f \\n\" % (i,a,b))\n",
    "    i= i + 0.1"
   ]
  },
  {
   "cell_type": "code",
   "execution_count": 25,
   "metadata": {},
   "outputs": [],
   "source": [
    "file.close()"
   ]
  },
  {
   "cell_type": "code",
   "execution_count": 27,
   "metadata": {},
   "outputs": [],
   "source": [
    "infile= open(\"data1.txt\", \"r\")"
   ]
  },
  {
   "cell_type": "code",
   "execution_count": 28,
   "metadata": {},
   "outputs": [
    {
     "data": {
      "text/plain": [
       "<_io.TextIOWrapper name='data1.txt' mode='r' encoding='UTF-8'>"
      ]
     },
     "execution_count": 28,
     "metadata": {},
     "output_type": "execute_result"
    }
   ],
   "source": [
    "infile"
   ]
  },
  {
   "cell_type": "code",
   "execution_count": 30,
   "metadata": {},
   "outputs": [],
   "source": [
    "lines = []\n",
    "for line in infile: \n",
    "    lines.append(line)"
   ]
  },
  {
   "cell_type": "code",
   "execution_count": 31,
   "metadata": {},
   "outputs": [
    {
     "data": {
      "text/plain": [
       "['0.100000 4.010000 0.200000 \\n',\n",
       " '0.200000 4.040000 0.400000 \\n',\n",
       " '0.300000 4.090000 0.600000 \\n',\n",
       " '0.400000 4.160000 0.800000 \\n',\n",
       " '0.500000 4.250000 1.000000 \\n',\n",
       " '0.600000 4.360000 1.200000 \\n',\n",
       " '0.700000 4.490000 1.400000 \\n',\n",
       " '0.800000 4.640000 1.600000 \\n',\n",
       " '0.900000 4.810000 1.800000 \\n',\n",
       " '1.000000 5.000000 2.000000 \\n',\n",
       " '1.100000 5.210000 2.200000 \\n',\n",
       " '1.200000 5.440000 2.400000 \\n',\n",
       " '1.300000 5.690000 2.600000 \\n',\n",
       " '1.400000 5.960000 2.800000 \\n',\n",
       " '1.500000 6.250000 3.000000 \\n',\n",
       " '1.600000 6.560000 3.200000 \\n',\n",
       " '1.700000 6.890000 3.400000 \\n',\n",
       " '1.800000 7.240000 3.600000 \\n',\n",
       " '1.900000 7.610000 3.800000 \\n',\n",
       " '2.000000 8.000000 4.000000 \\n',\n",
       " '2.100000 8.410000 4.200000 \\n',\n",
       " '2.200000 8.840000 4.400000 \\n',\n",
       " '2.300000 9.290000 4.600000 \\n',\n",
       " '2.400000 9.760000 4.800000 \\n',\n",
       " '2.500000 10.250000 5.000000 \\n',\n",
       " '2.600000 10.760000 5.200000 \\n',\n",
       " '2.700000 11.290000 5.400000 \\n',\n",
       " '2.800000 11.840000 5.600000 \\n',\n",
       " '2.900000 12.410000 5.800000 \\n']"
      ]
     },
     "execution_count": 31,
     "metadata": {},
     "output_type": "execute_result"
    }
   ],
   "source": [
    "lines"
   ]
  },
  {
   "cell_type": "code",
   "execution_count": 32,
   "metadata": {},
   "outputs": [],
   "source": [
    "infile.close()"
   ]
  },
  {
   "cell_type": "code",
   "execution_count": 36,
   "metadata": {},
   "outputs": [
    {
     "name": "stdout",
     "output_type": "stream",
     "text": [
      "['0.000000', '4.000000', '0.000000'] <class 'list'>\n",
      "0.0\n",
      "['0.100000', '4.010000', '0.200000'] <class 'list'>\n",
      "0.1\n",
      "['0.200000', '4.040000', '0.400000'] <class 'list'>\n",
      "0.2\n",
      "['0.300000', '4.090000', '0.600000'] <class 'list'>\n",
      "0.3\n",
      "['0.400000', '4.160000', '0.800000'] <class 'list'>\n",
      "0.4\n",
      "['0.500000', '4.250000', '1.000000'] <class 'list'>\n",
      "0.5\n",
      "['0.600000', '4.360000', '1.200000'] <class 'list'>\n",
      "0.6\n",
      "['0.700000', '4.490000', '1.400000'] <class 'list'>\n",
      "0.7\n",
      "['0.800000', '4.640000', '1.600000'] <class 'list'>\n",
      "0.8\n",
      "['0.900000', '4.810000', '1.800000'] <class 'list'>\n",
      "0.9\n",
      "['1.000000', '5.000000', '2.000000'] <class 'list'>\n",
      "1.0\n",
      "['1.100000', '5.210000', '2.200000'] <class 'list'>\n",
      "1.1\n",
      "['1.200000', '5.440000', '2.400000'] <class 'list'>\n",
      "1.2\n",
      "['1.300000', '5.690000', '2.600000'] <class 'list'>\n",
      "1.3\n",
      "['1.400000', '5.960000', '2.800000'] <class 'list'>\n",
      "1.4\n",
      "['1.500000', '6.250000', '3.000000'] <class 'list'>\n",
      "1.5\n",
      "['1.600000', '6.560000', '3.200000'] <class 'list'>\n",
      "1.6\n",
      "['1.700000', '6.890000', '3.400000'] <class 'list'>\n",
      "1.7\n",
      "['1.800000', '7.240000', '3.600000'] <class 'list'>\n",
      "1.8\n",
      "['1.900000', '7.610000', '3.800000'] <class 'list'>\n",
      "1.9\n",
      "['2.000000', '8.000000', '4.000000'] <class 'list'>\n",
      "2.0\n",
      "['2.100000', '8.410000', '4.200000'] <class 'list'>\n",
      "2.1\n",
      "['2.200000', '8.840000', '4.400000'] <class 'list'>\n",
      "2.2\n",
      "['2.300000', '9.290000', '4.600000'] <class 'list'>\n",
      "2.3\n",
      "['2.400000', '9.760000', '4.800000'] <class 'list'>\n",
      "2.4\n",
      "['2.500000', '10.250000', '5.000000'] <class 'list'>\n",
      "2.5\n",
      "['2.600000', '10.760000', '5.200000'] <class 'list'>\n",
      "2.6\n",
      "['2.700000', '11.290000', '5.400000'] <class 'list'>\n",
      "2.7\n",
      "['2.800000', '11.840000', '5.600000'] <class 'list'>\n",
      "2.8\n",
      "['2.900000', '12.410000', '5.800000'] <class 'list'>\n",
      "2.9\n"
     ]
    }
   ],
   "source": [
    "infile = open(\"data1.txt\", \"r\")\n",
    "time, x, xp =[], [], []\n",
    "for line in infile.readlines(): #leer linea por linea y descompone en flotantes\n",
    "    a=line.split()\n",
    "    print(line.split(), type(a))\n",
    "    print(float (a[0]))\n",
    "    x.append(float(a[1]))\n",
    "    xp.append(a[2])\n",
    "infile.close()\n"
   ]
  },
  {
   "cell_type": "code",
   "execution_count": 37,
   "metadata": {},
   "outputs": [
    {
     "ename": "ModuleNotFoundError",
     "evalue": "No module named 'numpy'",
     "output_type": "error",
     "traceback": [
      "\u001b[0;31m---------------------------------------------------------------------------\u001b[0m",
      "\u001b[0;31mModuleNotFoundError\u001b[0m                       Traceback (most recent call last)",
      "\u001b[0;32m<ipython-input-37-1418571ef747>\u001b[0m in \u001b[0;36m<module>\u001b[0;34m\u001b[0m\n\u001b[0;32m----> 1\u001b[0;31m \u001b[0;32mimport\u001b[0m \u001b[0mnumpy\u001b[0m\u001b[0;34m\u001b[0m\u001b[0;34m\u001b[0m\u001b[0m\n\u001b[0m\u001b[1;32m      2\u001b[0m \u001b[0;32mimport\u001b[0m \u001b[0mmatplotlib\u001b[0m\u001b[0;34m.\u001b[0m\u001b[0mpyplot\u001b[0m \u001b[0;32mas\u001b[0m \u001b[0mplt\u001b[0m\u001b[0;34m\u001b[0m\u001b[0;34m\u001b[0m\u001b[0m\n",
      "\u001b[0;31mModuleNotFoundError\u001b[0m: No module named 'numpy'"
     ]
    }
   ],
   "source": [
    "import numpy\n",
    "import matplotlib.pyplot as plt"
   ]
  },
  {
   "cell_type": "markdown",
   "metadata": {},
   "source": [
    "# Diccionarios\n",
    "Es un objeto muy flexible para almacenar diversos tipos de inforamcion y en "
   ]
  },
  {
   "cell_type": "code",
   "execution_count": 38,
   "metadata": {},
   "outputs": [],
   "source": [
    "temps = {'Oslo':13, 'Londres': 15.4, 'Paris': 17.5, 'Madrid': 26.0}"
   ]
  },
  {
   "cell_type": "code",
   "execution_count": 39,
   "metadata": {},
   "outputs": [
    {
     "data": {
      "text/plain": [
       "dict"
      ]
     },
     "execution_count": 39,
     "metadata": {},
     "output_type": "execute_result"
    }
   ],
   "source": [
    "type (temps)"
   ]
  },
  {
   "cell_type": "code",
   "execution_count": 40,
   "metadata": {},
   "outputs": [
    {
     "data": {
      "text/plain": [
       "13"
      ]
     },
     "execution_count": 40,
     "metadata": {},
     "output_type": "execute_result"
    }
   ],
   "source": [
    "temps['Oslo']"
   ]
  },
  {
   "cell_type": "code",
   "execution_count": 41,
   "metadata": {},
   "outputs": [
    {
     "data": {
      "text/plain": [
       "{'Oslo': 13, 'Londres': 15.4, 'Paris': 17.5, 'Madrid': 26.0}"
      ]
     },
     "execution_count": 41,
     "metadata": {},
     "output_type": "execute_result"
    }
   ],
   "source": [
    "temps"
   ]
  },
  {
   "cell_type": "code",
   "execution_count": 42,
   "metadata": {},
   "outputs": [],
   "source": [
    "temps['Oslo']=23"
   ]
  },
  {
   "cell_type": "code",
   "execution_count": 43,
   "metadata": {},
   "outputs": [
    {
     "data": {
      "text/plain": [
       "{'Oslo': 23, 'Londres': 15.4, 'Paris': 17.5, 'Madrid': 26.0}"
      ]
     },
     "execution_count": 43,
     "metadata": {},
     "output_type": "execute_result"
    }
   ],
   "source": [
    "temps"
   ]
  },
  {
   "cell_type": "code",
   "execution_count": 44,
   "metadata": {},
   "outputs": [
    {
     "data": {
      "text/plain": [
       "{3: 4, 5: 'dd'}"
      ]
     },
     "execution_count": 44,
     "metadata": {},
     "output_type": "execute_result"
    }
   ],
   "source": [
    "dict ([(3,4),(5,\"dd\")])"
   ]
  },
  {
   "cell_type": "code",
   "execution_count": 45,
   "metadata": {},
   "outputs": [
    {
     "data": {
      "text/plain": [
       "'La temperatura en LOndes es 15.4'"
      ]
     },
     "execution_count": 45,
     "metadata": {},
     "output_type": "execute_result"
    }
   ],
   "source": [
    "\"La temperatura en Londres es \" + str(temps['Londres'])"
   ]
  },
  {
   "cell_type": "code",
   "execution_count": 47,
   "metadata": {},
   "outputs": [
    {
     "data": {
      "text/plain": [
       "dict_values([23, 15.4, 17.5, 26.0])"
      ]
     },
     "execution_count": 47,
     "metadata": {},
     "output_type": "execute_result"
    }
   ],
   "source": [
    "temps.values()"
   ]
  },
  {
   "cell_type": "code",
   "execution_count": 48,
   "metadata": {},
   "outputs": [
    {
     "data": {
      "text/plain": [
       "dict_keys(['Oslo', 'Londres', 'Paris', 'Madrid'])"
      ]
     },
     "execution_count": 48,
     "metadata": {},
     "output_type": "execute_result"
    }
   ],
   "source": [
    "temps.keys()"
   ]
  },
  {
   "cell_type": "code",
   "execution_count": 49,
   "metadata": {},
   "outputs": [
    {
     "data": {
      "text/plain": [
       "dict_items([('Oslo', 23), ('Londres', 15.4), ('Paris', 17.5), ('Madrid', 26.0)])"
      ]
     },
     "execution_count": 49,
     "metadata": {},
     "output_type": "execute_result"
    }
   ],
   "source": [
    "temps.items()"
   ]
  },
  {
   "cell_type": "code",
   "execution_count": 50,
   "metadata": {},
   "outputs": [
    {
     "name": "stdout",
     "output_type": "stream",
     "text": [
      "La temperatura en Oslo es 23\n",
      "La temperatura en Londres es 15.4\n",
      "La temperatura en Paris es 17.5\n",
      "La temperatura en Madrid es 26\n"
     ]
    }
   ],
   "source": [
    "for city in temps:\n",
    "    print (\"La temperatura en %s es %g\" % (city, temps[city]))"
   ]
  },
  {
   "cell_type": "markdown",
   "metadata": {},
   "source": [
    "$p(x)= -1 + x +x²$"
   ]
  },
  {
   "cell_type": "code",
   "execution_count": 51,
   "metadata": {},
   "outputs": [],
   "source": [
    "def poly2 (data,x):\n",
    "    return sum([data[p]*x**p for p in data])"
   ]
  },
  {
   "cell_type": "code",
   "execution_count": null,
   "metadata": {},
   "outputs": [],
   "source": []
  }
 ],
 "metadata": {
  "kernelspec": {
   "display_name": "Python 3",
   "language": "python",
   "name": "python3"
  },
  "language_info": {
   "codemirror_mode": {
    "name": "ipython",
    "version": 3
   },
   "file_extension": ".py",
   "mimetype": "text/x-python",
   "name": "python",
   "nbconvert_exporter": "python",
   "pygments_lexer": "ipython3",
   "version": "3.6.7"
  }
 },
 "nbformat": 4,
 "nbformat_minor": 2
}
