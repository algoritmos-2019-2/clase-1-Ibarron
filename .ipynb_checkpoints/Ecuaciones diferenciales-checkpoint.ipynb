{
 "cells": [
  {
   "cell_type": "markdown",
   "metadata": {},
   "source": [
    "# Una introducción a las EDO's\n",
    "\n",
    "Empezaremos por dar una breve introducción a las *Ecuaciones Diferenciales Ordinarias* ***EDO***.\n",
    "\n",
    "\n",
    "## ¿Por qué las ODE?\n",
    "\n",
    "Como sabemos de nuestras clases de calculo la deriva es una medida de la tasa de cambio de una función con respecto a una de varibles, elemplo de ello es la velocidad que es el cambio de la posición de la posición respecto al tiempo, esto es $$\\vec{v} = \\dfrac{d \\vec{x}(t)}{dt}$$\n",
    "\n",
    "### Decaimiento radiactivo\n",
    "\n",
    "Revisémos un problema en especial el deicamiento de una isótopo radiactivo el cual sabemos que se deintegra con una rapidez proporcional a la cantidad del mismo, es decir,  si tenemos una cantidad $N(t)$ de material (supongamos que para t = 0 tenemos  una unidad de material $N(0) = 1$), después de un cierto tiempo se tendrá $-\\lambda N$, esto es:\n",
    "$$\n",
    "\\begin{equation}\n",
    "\\dfrac{d N}{d t} = -\\lambda N\n",
    "\\end{equation}\n",
    "$$\n",
    "Con $\\lambda > 0$\n",
    "\n",
    "Sabemos que la solución a esta ODE es $N(t) = \\exp(- \\lambda t)$, muestre que la anterior es solución \n",
    "\n",
    "$$\\dfrac{d N}{d t} = - \\lambda N \\Rightarrow \\displaystyle \\int \\dfrac{d N}{N}  = - \\int \\lambda dt \\Rightarrow \\ln(N) = -\\lambda N + c  \\Rightarrow N(t) = C_{0}exp(-\\lambda t)$$\n",
    "\n",
    "De la condición inicial tenemos la solución\n",
    "\n",
    "Con esta misma idea podemos modelar el creciento de una población. Supongamos que para un tiempo $t$ tenemos una población $N$ de habitantes, y si consideramos que la población se reproduce a una tasa constante $\\lambda$, ¿cuánto pobladores tendríamos después de un cierto tiempo?, pues la ecuación que modela esto es la siguiente \n",
    "\n",
    "\\begin{equation}\n",
    "\\dfrac{d N(t)}{d t} = - \\lambda N(t) \n",
    "\\end{equation}\n",
    "\n",
    "* **Encuentre la solución para la anterior ODE con condición inicial $N(1) = 100$**"
   ]
  },
  {
   "cell_type": "markdown",
   "metadata": {},
   "source": [
    "### Modelo logístico\n",
    "\n",
    "Igual que en el caso anterior. Pero si ahora consideramos el hecho de que la tasa de creciemiento en realidad depende de la población en la ecuacción anterior reemplazamos la constante $r$ por una función de $N$, es decir, $ f(N)$ y esta función debe cumplir que $f(n) \\approx \\lambda > 0$, cuando $N$ es pequeña también buscamos que $f(N)$ decrezca cuando $N$ aumenta y por último queremos que $f(N)<0$ cuando $N$ sea suficientemente grande, observamos que la función más sencilla que cumple con estas  propiedades es $f(N)=\\lambda - \\alpha N$ con $ \\alpha $ una constante positiva, por lo que la ecuación diferencial de este módelo es \n",
    "\n",
    "\\begin{equation}\n",
    "\\dfrac{d N(t)}{d t} = (\\lambda - \\alpha N(t)) N(t) = \\lambda \\left( 1 - \\dfrac{N(t)}{\\kappa} \\right)N(t)\n",
    "\\end{equation}\n",
    "\n",
    "\n",
    "Dicha ecuación es conocida como **Ecuación logística**\n",
    "\n",
    "* **Encuentre la solución analítica de la ecucuación logística con condición inicial $N(0) = N_0$**"
   ]
  },
  {
   "cell_type": "markdown",
   "metadata": {},
   "source": [
    "### Modelo de Lotka Volterra\n",
    "\n",
    "En 1925 Lotka y Volterra propusieron un modelo matemático que muestra como es posible mantener un equilibrio ecológico cuando están presente el depredador $x(t)$ y su presa $y(t)$. Dicho modelo propone la siguientes suposiciones\n",
    "\n",
    "* En ausencia de depredador, la presa crece con una razon proporcional a la población actual; por lo tanto $\\frac{dx}{dt} = a x$ con $a>0$ y cuando $y =0 $\n",
    "\n",
    "* En auscencia de presa los depredadores se extinguen; por lo tanto $\\frac{dy}{dt} = -c x$ $c>0$ cuando $x =0 $\n",
    "\n",
    "* El número de encuentros entre el depredador y la presa es proporcional al producto de sus poblaciones. Cada uno de eso encuentros tienden a favorecer el aumento de los depredadores y a inhibir el aumento de la presas\n",
    "\n",
    "\\begin{eqnarray}\n",
    "\\dfrac{dy}{dt} = \\alpha_{1}y - \\beta_{1}xy = y(\\alpha_{1} - \\beta_{1}x)\\\\\n",
    "\\dfrac{dx}{dt} = - \\alpha_{2}x + \\beta_{2}yx =  x( -\\alpha_{2} + \\beta_{2}y) \n",
    "\\end{eqnarray}\n",
    "\n",
    "\n",
    "\n",
    "\n",
    "* **¿Tiene solución analítica este sistema de ecuaciones? ¿Para que casos podría tener solución?**"
   ]
  },
  {
   "cell_type": "markdown",
   "metadata": {},
   "source": [
    "### El péndulo simple\n",
    "\n",
    "De nuestro curso de física elemental sabemos que la ecuación de moviento de un péndulo es la siguiente \n",
    "\n",
    "\\begin{equation}\n",
    "\\ell \\dfrac{d^2 \\theta(t)}{d t^2} + g \\sin(\\theta(t)) = 0\n",
    "\\end{equation}\n",
    "\n",
    "* **¿Tiene solución analítica esta ecución? ¿de ser cierto cual es?**"
   ]
  },
  {
   "cell_type": "markdown",
   "metadata": {},
   "source": [
    "### Oscilador armónico  simple\n",
    "\n",
    "Otro ejemplo de una ecuación diferencial y quizá el más común es el oscilador armonico. Sabemos de la segunda ley de Newton que $\\vec{F} = m \\dfrac{d^2 \\vec{x}(t)} { d t^2 }$, como sabemos el lado izquierdo de esta ecuación son todas la fuerzas que actuán sobre la partícula de masa $m$. Ahora supongamos que sobre esta masa actúa que se opone al desplazamiento de esta, es decir que dicha fuerza es de la forma $\\vec{F} = - \\kappa \\vec{x} $, y sólo por simplicidad pensemos que este moviento es unidimensional por que la ecuación diferencial de movimiento es:\n",
    "\n",
    "\\begin{equation}\n",
    "\\dfrac{d^2 x(t)}{d t^2} =  - \\dfrac{\\kappa}{m} x(t) = - \\omega_0 ^2 x(t)\n",
    "\\end{equation}\n",
    "\n",
    "Ahora veamos que pasa si hacemos el cambio de varible  $v = \\dfrac{d x}{d t}$, la ecuación anterior toma la siguiente forma\n",
    "\n",
    "\\begin{eqnarray}\n",
    "\\dfrac{dx}{dt} = v \\\\\n",
    "\\dfrac{dv}{dt} = -  \\omega_0 ^2 x(t)\n",
    "\\end{eqnarray}\n",
    "\n",
    "vemos que dicho cambio de variable pudimos cambia una EDO de segundo orden en un sistema de dos ecuaciones de segundo orden, \n",
    "\n",
    "* **¿Podremos hacer lo mismo para la ecuación del péndulo?**\n",
    "\n",
    "* **Muestre como se hizo en el salón que la solución para el oscilador armónico con condiciones iniciales $x(0) = 1$ y $ \\dot{x}(0) = 0$ es $x(t) = \\cos(\\omega_{0} t)$**\n",
    "\n",
    "\n",
    "\n",
    "Consideremos la ecuación diferencial $ $\n",
    "\n",
    "### Oscilador armónico amortiguado\n",
    "\n",
    "Sabemos del caso anterior que la ecuación de Newton para un oscilador armónico es $F = - \\kappa x $ ahora si consideramos una amortiguamiento, dicha ecuación es $F = - \\kappa x -\\gamma \\dfrac{d x(t)}{d t}$ puesto sabemos los amortiguamientos se consideran proporcinales a la velcidad y en sentido opuesto al movimiento por lo que la ecuación de movimiento es\n",
    "\n",
    "\\begin{equation}\n",
    "\\dfrac{d^2 x(t)}{d t^2} + 2\\beta \\dfrac{d x(t)}{d t} + \\omega_0 ^2 x(t)=0\n",
    "\\end{equation}\n",
    "\n",
    "* **Realice lo mismo que se hizo en el oscilador armónico simple para este caso**\n",
    "\n",
    "### Oscilador armónico amortiguado con forzamiento \n",
    "\n",
    "Un caso más interesante es un oscilador armónico armortiguado, que sufre un forzamiento, podemo por simplicidad que este fuerza de forzamiento es periodica que depende del tiempo, por ejemplo $f(t) = F_0 \\cos(\\omega t)$ si escribimos la ecuación de Newton tenemos $F = - \\kappa x -\\gamma \\dfrac{d x(t)}{d t} + f(t) $ esto es\n",
    "\n",
    "\\begin{equation}\n",
    "\\dfrac{d^2 x(t)}{d t^2} + 2\\beta \\dfrac{d x(t)}{d t} + \\omega_0 ^2 x(t) = F_0 \\cos(\\omega t)\n",
    "\\end{equation}\n",
    "\n",
    "* **En clase resolveremos esta ODE**\n",
    " \n",
    "##  Definición de una ODE \n",
    "\n",
    "La definción formal de una EDO \n",
    "\n",
    "Sea $J \\subseteq \\mathbb{R}$, $U \\subseteq \\mathbb{R}^{n}$ y $\\Lambda \\subseteq \\mathbb{R}^{k}$, subconjuntos abiertos, además suponga,   $f:\\mathcal{J} \\times U \\times \\Lambda \\longrightarrow \\mathbb{R}^{n}$ suave, donde suave significa de clase $\\mathcal{C}^{\\infty}$. Una ODE es una ecuación de la forma $$\\dot{x} = f(t,x,\\lambda)$$\n",
    "\n",
    "Donde el punto denota la derivada con respecto a la variable $t$, en la practica y en muchos casos $t$ es el tiempo, la variable dependiente $x$ es un vector de variables de estado $x = (x_1(t),x_2(t),..,x_n(t))$, y $λ$ es un vector de parámetros $\\lambda = (\\lambda_{1},\\lambda_{2},\\dots, \\lambda_{k})$"
   ]
  },
  {
   "cell_type": "markdown",
   "metadata": {},
   "source": [
    "## Metodos numéricos de integración"
   ]
  },
  {
   "cell_type": "markdown",
   "metadata": {},
   "source": [
    "### Metodo de Euler\n",
    "\n",
    "Consideremos la siguiente ecuación diferencial \n",
    "\n",
    "\n",
    "\\begin{equation}\n",
    "\\dfrac{d x(t)}{dt} = F(t,x,\\lambda )\n",
    "\\end{equation}\n",
    "\n",
    "con condición inicial $x(a) = b$ en el intervalo [\\alpha, \\beta], si escribimos la expansión en serie de Taylor de $x$ alrededor de $ t_0 =t - h$ tenemos:\n",
    "\n",
    "$x(t) = x(t_0) + x'(t_0)(t -t_0)+ \\Theta(\\vert t - t_0  \\vert ^2)$, si $0<h<<1$ entonces $0<t_0<<1$ por lo que podemos despreciar los terminos de orden superior a dos por lo tanto, $x(t) \\approx x(t_0) + x'(t_0)(t -t_0)$, esto se puede escribir como $x(t + h) \\approx x(t) + x'(t)(h) \\Longrightarrow  x(t + h) \\approx x(t) + F(t,x,\\lambda )h$ , lo cual nos genera una relación de recurrencia para aproximar la solución de la ODE esta relación es\n",
    "\n",
    "\n",
    "$$ x_{n+1} = x_{n} + F(t_n,x_n,\\lambda )h $$\n",
    "\n",
    "considerando $t_0 = a, x_0=b$ y el paso en $t_{n+1} = t_n + h$, del método tenemos todo execto $h$ pero este lo podemos tomar como $h = \\frac{\\beta - \\alpha}{N}$ con $N$ el número de puntos en el intervalo donde se busca encontrar la solución \n"
   ]
  },
  {
   "cell_type": "code",
   "execution_count": null,
   "metadata": {},
   "outputs": [],
   "source": [
    "from numpy import*\n",
    "from pylab import*\n",
    "%matplotlib inline"
   ]
  },
  {
   "cell_type": "code",
   "execution_count": null,
   "metadata": {},
   "outputs": [],
   "source": [
    "exp(0)"
   ]
  },
  {
   "cell_type": "markdown",
   "metadata": {},
   "source": [
    "Implemetaremos el método para la ecuación del decaimiento radiactivo, aprovechando que conocemos la solución analítica y hagamos esto para el intervalo $[0,5]$ y $\\lambda = 1$\n",
    "\n",
    "Primero grafiquemos la solución analítica"
   ]
  },
  {
   "cell_type": "code",
   "execution_count": null,
   "metadata": {},
   "outputs": [],
   "source": [
    "def expl(l,t):\n",
    "    return exp(-l*t)"
   ]
  },
  {
   "cell_type": "markdown",
   "metadata": {},
   "source": [
    "Genremos un arreglo `x` con 101 putos "
   ]
  },
  {
   "cell_type": "code",
   "execution_count": null,
   "metadata": {},
   "outputs": [],
   "source": [
    "x = linspace(0.0, 5.0, 101)"
   ]
  },
  {
   "cell_type": "code",
   "execution_count": null,
   "metadata": {},
   "outputs": [],
   "source": [
    "x"
   ]
  },
  {
   "cell_type": "code",
   "execution_count": null,
   "metadata": {},
   "outputs": [],
   "source": [
    "len(x)"
   ]
  },
  {
   "cell_type": "markdown",
   "metadata": {},
   "source": [
    "Ahora generemos un arreglo `y` que contenga $f(x(t)) = \\exp(- t)$ para cada x de `x`"
   ]
  },
  {
   "cell_type": "code",
   "execution_count": null,
   "metadata": {},
   "outputs": [],
   "source": [
    "def exps(l,x):\n",
    "    y = []\n",
    "    for i in x:\n",
    "        r = exp(-l*i)\n",
    "        y.append(r)\n",
    "    return y"
   ]
  },
  {
   "cell_type": "code",
   "execution_count": null,
   "metadata": {},
   "outputs": [],
   "source": [
    "sol = exps(1,x)"
   ]
  },
  {
   "cell_type": "code",
   "execution_count": null,
   "metadata": {},
   "outputs": [],
   "source": [
    "plot(x,sol)"
   ]
  },
  {
   "cell_type": "code",
   "execution_count": null,
   "metadata": {
    "scrolled": true
   },
   "outputs": [],
   "source": [
    "i = 0\n",
    "while i <= 5:\n",
    "    #x = linspace(0, 5, 100)\n",
    "    resultado =exps(i,x)\n",
    "    plot(x,resultado)\n",
    "    i +=1"
   ]
  },
  {
   "cell_type": "markdown",
   "metadata": {},
   "source": [
    "* **Comente el código anterior**\n",
    "\n",
    "Ahora implentemos el método de Euler y el **estudiante debe comentarlo**. Antes generemos el lado drecho de la respectiva ecuación diferencial es decir $f(N) = -\\lambda N$"
   ]
  },
  {
   "cell_type": "code",
   "execution_count": null,
   "metadata": {},
   "outputs": [],
   "source": [
    "def ff(l,x):\n",
    "    return -l*x"
   ]
  },
  {
   "cell_type": "code",
   "execution_count": null,
   "metadata": {},
   "outputs": [],
   "source": [
    "ff(1,1)"
   ]
  },
  {
   "cell_type": "code",
   "execution_count": null,
   "metadata": {},
   "outputs": [],
   "source": [
    "def metodo_euler(f, intervalo, t0, condini, n):\n",
    "    x = linspace(intervalo[0], intervalo[1], n)\n",
    "    y = []\n",
    "    i = 0\n",
    "    h = (intervalo[1] - intervalo[0])/n\n",
    "    #condt = condini[0]\n",
    "    #condx = condini[0]\n",
    "    condx = condini[0]\n",
    "    while i < n:\n",
    "        #print condx\n",
    "        y.append(condx)\n",
    "        #print y\n",
    "        condx = condx + f(1,condx)*h\n",
    "        t0 = t0 + h\n",
    "        i +=1 \n",
    "    \n",
    "    return x,y"
   ]
  },
  {
   "cell_type": "code",
   "execution_count": null,
   "metadata": {},
   "outputs": [],
   "source": [
    "xsole, ysole = metodo_euler(ff, (0.,5.), 0.0 , [1.0,], 1000)"
   ]
  },
  {
   "cell_type": "code",
   "execution_count": null,
   "metadata": {},
   "outputs": [],
   "source": [
    "len(xsole) == len(ysole)"
   ]
  },
  {
   "cell_type": "code",
   "execution_count": null,
   "metadata": {},
   "outputs": [],
   "source": [
    "plot(xsole, ysole)\n",
    "plot(x,sol)"
   ]
  },
  {
   "cell_type": "markdown",
   "metadata": {},
   "source": [
    "**Realice un ciclo para que grafique la solución aproximada para distintos valores de N**\n",
    "\n",
    "Integre el método el oscilador armónico con Euler"
   ]
  },
  {
   "cell_type": "code",
   "execution_count": null,
   "metadata": {},
   "outputs": [],
   "source": [
    "def oscilador(para,x):\n",
    "    return (x[1],-(para**2)*(x[0]) )\n",
    "\n",
    "oscilador(1,(1.0,0.0))[1]"
   ]
  },
  {
   "cell_type": "markdown",
   "metadata": {},
   "source": [
    "Ahora escribamos el método de Euler en dos dimensiones"
   ]
  },
  {
   "cell_type": "code",
   "execution_count": null,
   "metadata": {},
   "outputs": [],
   "source": [
    "def metodo_euler2(f, t0, tf, condini, dt):\n",
    "    t = []\n",
    "    x = [] \n",
    "    v = []\n",
    "    #i = 0\n",
    "    h = dt #(intervalo[1] - intervalo[0])/n\n",
    "    #condt = condini[0]\n",
    "    #condx = condini[0]\n",
    "    condx = condini[0]\n",
    "    condv = condini[1]\n",
    "    x.append(condx)\n",
    "    v.append(condv)\n",
    "    t.append(t0)\n",
    "    while t0 < tf:\n",
    "        condx = condx + f(1,condini)[0]*h\n",
    "        condv = condv + f(1,condini)[1]*h\n",
    "        t0 = t0 + h\n",
    "        x.append(condx)\n",
    "        v.append(condv)\n",
    "        t.append(t0)\n",
    "        condini = (condx,condv)\n",
    "        \n",
    "        #i +=1 \n",
    "    \n",
    "    return t, x, v"
   ]
  },
  {
   "cell_type": "code",
   "execution_count": null,
   "metadata": {},
   "outputs": [],
   "source": [
    "tiempo, posicion, velocidad = metodo_euler2(oscilador, 0.0 , 100.0,  [1.0, 0.0], .01)"
   ]
  },
  {
   "cell_type": "code",
   "execution_count": null,
   "metadata": {},
   "outputs": [],
   "source": [
    "ta = linspace(0.0 ,10.0,1001)"
   ]
  },
  {
   "cell_type": "code",
   "execution_count": null,
   "metadata": {},
   "outputs": [],
   "source": [
    "xa = []\n",
    "va = []\n",
    "\n",
    "for i in ta:\n",
    "    aux = cos(i)\n",
    "    auxv = -sin(i)\n",
    "    xa.append(aux)\n",
    "    va.append(auxv)"
   ]
  },
  {
   "cell_type": "code",
   "execution_count": null,
   "metadata": {},
   "outputs": [],
   "source": [
    "plot(xa,va)\n",
    "title(\"Espacio de fase\")\n",
    "xlabel(\"X\")\n",
    "ylabel(\"V\")\n",
    "grid(True)\n",
    "show()"
   ]
  },
  {
   "cell_type": "markdown",
   "metadata": {},
   "source": [
    "* **Interprete la grafica anterior**"
   ]
  },
  {
   "cell_type": "markdown",
   "metadata": {},
   "source": [
    "* **Explique que sucede en la siguientes gráficas, con respecto al sistema masa resorte**"
   ]
  },
  {
   "cell_type": "code",
   "execution_count": null,
   "metadata": {},
   "outputs": [],
   "source": [
    "plot(posicion, velocidad)\n",
    "plot(xa,va)\n",
    "grid(True)"
   ]
  },
  {
   "cell_type": "code",
   "execution_count": null,
   "metadata": {},
   "outputs": [],
   "source": [
    "plot(tiempo, posicion)\n",
    "title(\"Posicion en funcion del tiempo\")\n",
    "xlabel(\"tiempo\")\n",
    "ylabel(\"posicion\")"
   ]
  },
  {
   "cell_type": "code",
   "execution_count": null,
   "metadata": {},
   "outputs": [],
   "source": [
    "plot(tiempo, velocidad)\n",
    "title(\"Velocidad en funcion del tiempo\")\n",
    "xlabel(\"tiempo\")\n",
    "ylabel(\"velocidad\")"
   ]
  },
  {
   "cell_type": "markdown",
   "metadata": {},
   "source": [
    "### Existe una mejora para el metodo de Euler\n",
    "\n",
    "A este se le conoce como método mejorado de Euler o de Heun y la regla de iteración es:\n",
    "\n",
    "$$x_{n+1} = x_{n} + \\dfrac{f(t_{n}, x_{n}) + f(t_n + h, x_{n} + hf(t_n,x_n))}{2}h$$ Donde $t_{n+1} = t_{n} + h$\n",
    "\n",
    "Implemente el anterior método de integración y comparare con el método de Euler, para el oscilador armónico. En este caso si $f(t,x)$ sólo depende de t y no de $y$, entonces la ecuación diferencial $\\dot{x} = f(t,x)$ se  reduce a resolver  $f(t)$, en este caso se obtiene la fómula del trapecio $$x_{n+1}= x_{n} + \\dfrac{h}{2}\\left[f(t_{n}) + f(t_n +h))\\right]$$"
   ]
  },
  {
   "cell_type": "markdown",
   "metadata": {},
   "source": [
    "* **Escriba el método de Euler en N dimesiones, más adelante lo haremos para el método de Runge-Kutta**"
   ]
  },
  {
   "cell_type": "markdown",
   "metadata": {},
   "source": [
    "## Metodo de Runge-Kutta\n",
    "\n",
    "Al igual que el método de Euler solo daremos el algoritmo del método de Runge-Kutta, aunque sería muy importante que el estudiante revise algun momento la descripción formal del método\n",
    "\n",
    "Para el problema de valores iniales esto es $\\dfrac{d x(t) }{dt} = f(t,x,\\lambda)$ con condición inicial $x(0) = x_0$\n",
    "\n",
    "La recurrencia para el método es la siguiete: \n",
    "\n",
    "\n",
    "$$\n",
    "\\begin{eqnarray}\n",
    "x_{n+1} = x_{n} + \\frac{h}{6}\\left( K_{1} + 2K_{2} + 2K_{3} + K_{4} \\right) \\\\\n",
    "t_{n+1} = t_{n} + h \n",
    "\\end{eqnarray}\n",
    "$$ \n",
    "\n",
    "y\n",
    "\n",
    "$$\n",
    "\\begin{eqnarray}\n",
    "K_{1} = f\\left( t_n, x_n, \\lambda \\right)  \\\\\n",
    "K_{2} = f\\left( t_n + \\frac{h}{2}, x_n + h\\frac{K_1}{2}, \\lambda \\right)  \\\\ \n",
    "K_{3} = f\\left( t_n + \\frac{h}{2}, x_n + h\\frac{K_2}{2}, \\lambda\\right)  \\\\\n",
    "K_{4} = f\\left( t_n + h, x_n + hK_3, \\lambda\\right) \n",
    "\\end{eqnarray}\n",
    "$$ "
   ]
  },
  {
   "cell_type": "code",
   "execution_count": null,
   "metadata": {},
   "outputs": [],
   "source": [
    "def rg4(f, t0, tf, condi, dt, para):\n",
    "    tiempo = []\n",
    "    xsalida = []\n",
    "    h = dt\n",
    "    t = t0\n",
    "    x = array(condi)\n",
    "    while t < tf:\n",
    "        \n",
    "        tiempo.append(t)\n",
    "        xsalida.append(x)\n",
    "        \n",
    "        k1 = f(x,t,para)\n",
    "        k2 = f(x + h*k1*0.5, t + h*0.5, para)\n",
    "        k3 = f(x + h*k2*0.5, t + h*0.5, para)\n",
    "        k4 = f(x + h*k3, t + h, para)\n",
    "        \n",
    "        x = x + h*(1/6.)*(k1 + 2*k2 + 2*k3 + k4)\n",
    "        t = t + h\n",
    "    return tiempo, xsalida\n",
    "        \n",
    "        "
   ]
  },
  {
   "cell_type": "code",
   "execution_count": null,
   "metadata": {},
   "outputs": [],
   "source": [
    "def oscilador(x,t,para):\n",
    "    return array((x[1],-(para**2)*(x[0]) ))\n"
   ]
  },
  {
   "cell_type": "markdown",
   "metadata": {},
   "source": [
    "* **Comente el código anterior y explique que hace `array()`**"
   ]
  },
  {
   "cell_type": "code",
   "execution_count": null,
   "metadata": {},
   "outputs": [],
   "source": [
    "time, out, = rg4(oscilador, 0.0, 128, (2.0, 0.0), 0.1, 1.0)"
   ]
  },
  {
   "cell_type": "code",
   "execution_count": null,
   "metadata": {},
   "outputs": [],
   "source": [
    "out[0][1]"
   ]
  },
  {
   "cell_type": "code",
   "execution_count": null,
   "metadata": {},
   "outputs": [],
   "source": [
    "x = []\n",
    "v = []\n",
    "for i in out:\n",
    "    x.append(i[0])\n",
    "    v.append(i[1])\n",
    "    "
   ]
  },
  {
   "cell_type": "code",
   "execution_count": null,
   "metadata": {},
   "outputs": [],
   "source": [
    "plot(x,v)\n",
    "grid(True)"
   ]
  },
  {
   "cell_type": "markdown",
   "metadata": {
    "collapsed": true
   },
   "source": [
    "* **De la grafíca anterior que se puede decir del integrador anterior**"
   ]
  },
  {
   "cell_type": "markdown",
   "metadata": {},
   "source": [
    "* **De curso de mécanica vectorial podemos conocer la energía del oscilador armónico, grafique la energía como función del tiempo para los tres métodos propuestos en este notebook**"
   ]
  },
  {
   "cell_type": "code",
   "execution_count": null,
   "metadata": {},
   "outputs": [],
   "source": []
  }
 ],
 "metadata": {
  "kernelspec": {
   "display_name": "Python 3",
   "language": "python",
   "name": "python3"
  },
  "language_info": {
   "codemirror_mode": {
    "name": "ipython",
    "version": 3
   },
   "file_extension": ".py",
   "mimetype": "text/x-python",
   "name": "python",
   "nbconvert_exporter": "python",
   "pygments_lexer": "ipython3",
   "version": "3.7.1"
  }
 },
 "nbformat": 4,
 "nbformat_minor": 2
}
