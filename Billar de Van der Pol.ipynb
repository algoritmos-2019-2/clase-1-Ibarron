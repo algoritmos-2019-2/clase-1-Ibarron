{
 "cells": [
  {
   "cell_type": "markdown",
   "metadata": {},
   "source": [
    "## Billar"
   ]
  },
  {
   "cell_type": "markdown",
   "metadata": {},
   "source": [
    "Sabemos que la ecuación de movimiento para una partícula en el espacio sin restricciones es:\n",
    "\n",
    "\\begin{equation}\n",
    "m \\dfrac{d² x(t)} {dt²} = F,\n",
    "\\end{equation}\n",
    "\n",
    "donde $x \\in \\mathbb{R}² y F = 0$. Por lo tanto\n",
    "\n",
    "$$ \\ddot{q}= 0\\\\ (\\dot{x}, \\dot {y}) = (0,0) $$\n",
    "\n",
    "Por lo que el campo vectorial a integrar es:\n",
    "\n",
    "\\begin{equation}\n",
    "\\dot{x} = V_X \\\\\n",
    "\\dot{y} = V_y \\\\\n",
    "\\dot{V}_x = 0\\\\\n",
    "\\dot{V}_y = 0 \\\\\n",
    "\\end{equation}"
   ]
  },
  {
   "cell_type": "markdown",
   "metadata": {},
   "source": [
    "Ahora definamos el campo vectorial"
   ]
  },
  {
   "cell_type": "code",
   "execution_count": 6,
   "metadata": {},
   "outputs": [],
   "source": [
    "from numpy import *\n",
    "from scipy.integrate import *\n",
    "from pylab import *\n",
    "%matplotlib inline "
   ]
  },
  {
   "cell_type": "code",
   "execution_count": 8,
   "metadata": {},
   "outputs": [],
   "source": [
    "def Movimiento(x,t):\n",
    "    return [x[2],x[3],0,0]"
   ]
  },
  {
   "cell_type": "code",
   "execution_count": 42,
   "metadata": {},
   "outputs": [],
   "source": [
    "#t = linspace (0,5,1001)"
   ]
  },
  {
   "cell_type": "code",
   "execution_count": 43,
   "metadata": {},
   "outputs": [],
   "source": [
    "xout = odeint(Movimiento,[1,1,0.2,-.5],t)"
   ]
  },
  {
   "cell_type": "code",
   "execution_count": 44,
   "metadata": {},
   "outputs": [
    {
     "data": {
      "text/plain": [
       "[<matplotlib.lines.Line2D at 0x7fbba0c5c978>]"
      ]
     },
     "execution_count": 44,
     "metadata": {},
     "output_type": "execute_result"
    },
    {
     "data": {
      "image/png": "[encoded data removed]",
      "text/plain": [
       "<Figure size 432x288 with 1 Axes>"
      ]
     },
     "metadata": {
      "needs_background": "light"
     },
     "output_type": "display_data"
    }
   ],
   "source": [
    "plot(xout[:,0], xout[:,1])"
   ]
  },
  {
   "cell_type": "code",
   "execution_count": 45,
   "metadata": {},
   "outputs": [
    {
     "data": {
      "text/plain": [
       "array([[ 1.     ,  1.     ,  0.2    , -0.5    ],\n",
       "       [ 1.0025 ,  0.99375,  0.2    , -0.5    ],\n",
       "       [ 1.005  ,  0.9875 ,  0.2    , -0.5    ],\n",
       "       [ 1.0075 ,  0.98125,  0.2    , -0.5    ],\n",
       "       [ 1.01   ,  0.975  ,  0.2    , -0.5    ],\n",
       "       [ 1.0125 ,  0.96875,  0.2    , -0.5    ],\n",
       "       [ 1.015  ,  0.9625 ,  0.2    , -0.5    ],\n",
       "       [ 1.0175 ,  0.95625,  0.2    , -0.5    ],\n",
       "       [ 1.02   ,  0.95   ,  0.2    , -0.5    ],\n",
       "       [ 1.0225 ,  0.94375,  0.2    , -0.5    ],\n",
       "       [ 1.025  ,  0.9375 ,  0.2    , -0.5    ]])"
      ]
     },
     "execution_count": 45,
     "metadata": {},
     "output_type": "execute_result"
    }
   ],
   "source": [
    "xout"
   ]
  },
  {
   "cell_type": "code",
   "execution_count": 56,
   "metadata": {},
   "outputs": [
    {
     "data": {
      "text/plain": [
       "array([ 0.475 , -0.0375,  0.2   , -0.5   ])"
      ]
     },
     "execution_count": 56,
     "metadata": {},
     "output_type": "execute_result"
    }
   ],
   "source": [
    "xout[-1]"
   ]
  },
  {
   "cell_type": "code",
   "execution_count": 9,
   "metadata": {},
   "outputs": [],
   "source": [
    "def Newton (F,x_k, t_k,i, TOL= 1e-5, NMAX=200):\n",
    "    for n in range (1,NMAX+1):\n",
    "        t0= t_k\n",
    "        t_k = t_k -(x_k[i]/F(x_k,t_k)[i])\n",
    "        t= linspace(t0,t_k,11)\n",
    "        x_k= odeint(F, x_k, t)\n",
    "        if abs(x_k[-1][i])<TOL:\n",
    "            break\n",
    "    if n == NMAX:\n",
    "        print(\"Reached max number of steps\")\n",
    "    else: \n",
    "        return x_k"
   ]
  },
  {
   "cell_type": "code",
   "execution_count": 10,
   "metadata": {},
   "outputs": [],
   "source": [
    "def caja(x, tiempo):\n",
    "    if x[1] <= 0:\n",
    "        xnew = Newton(Movimiento,x,tiempo,1)\n",
    "        x[0] = xnew[-1][0]\n",
    "        x[1] = xnew[-1][1]\n",
    "        print(\"Abajo \", x[0], x[1])\n",
    "        x[3]= -x[3]\n",
    "        #return (x[0],-x[1])\n",
    "        #print (\"Pared abajo\")\n",
    "    elif x[1]>= 1:\n",
    "        x[1]= x[1]-1.0\n",
    "        xnew = Newton(Movimiento,x,tiempo,1)\n",
    "        x[0] = xnew[-1][0]\n",
    "        x[1] = xnew[-1][1] + 1.0\n",
    "        print(\"Arriba \", x[0], x[1])\n",
    "        x[3]= -x[3]\n",
    "        #return (x[0],2-x[1])\n",
    "        #print (\"Pared arriba\")\n",
    "    elif x[0]<= 0:\n",
    "        xnew= Newton(Movimiento, x, tiempo, 0)\n",
    "        x[0]= xnew[-1][0]\n",
    "        x[1] = xnew[-1][1]\n",
    "        print (\"Izquierda \", x[0], x[1])\n",
    "        x[2] = -x[2]\n",
    "        \n",
    "        #return (-x[0],x[1])\n",
    "        #print (\"Pared izquierda\")\n",
    "    elif x[0]>= 1:\n",
    "        x[0]= x[1]-1.0\n",
    "        xnew = Newton(Movimiento,x,tiempo,1)\n",
    "        x[0] = xnew[-1][0]+1.0\n",
    "        x[1] = xnew[-1][1] \n",
    "        print(\"Derecha \", x[0], x[1])\n",
    "        x[2]= -x[2]\n",
    "        #return (2-x[0],x[1])\n",
    "        #print (\"Pared derecha\")\n",
    "    return x"
   ]
  },
  {
   "cell_type": "code",
   "execution_count": 11,
   "metadata": {},
   "outputs": [],
   "source": [
    "t= linspace (0,1/2**3,11)"
   ]
  },
  {
   "cell_type": "code",
   "execution_count": null,
   "metadata": {},
   "outputs": [],
   "source": [
    "i= 0\n",
    "inicond= [0.1,0.9,0.2,-0.5]\n",
    "x, y = zeros(80), zeros(80)\n",
    "tiempo = 0\n",
    "while i < 80:\n",
    "    xout = odeint(Movimiento,inicond,t)\n",
    "    inicond= caja(xout[-1],tiempo)\n",
    "    tiempo = tiempo + i/2**3\n",
    "    x[i] = inicond[0]\n",
    "    y[i]= inicond[1]\n",
    "    i += 1\n",
    "    "
   ]
  },
  {
   "cell_type": "code",
   "execution_count": 33,
   "metadata": {},
   "outputs": [
    {
     "data": {
      "text/plain": [
       "[<matplotlib.lines.Line2D at 0x7fbba0ca1b38>]"
      ]
     },
     "execution_count": 33,
     "metadata": {},
     "output_type": "execute_result"
    },
    {
     "data": {
      "image/png": "[encoded data removed]",
      "text/plain": [
       "<Figure size 432x288 with 1 Axes>"
      ]
     },
     "metadata": {
      "needs_background": "light"
     },
     "output_type": "display_data"
    }
   ],
   "source": [
    "plot(x,y, \".\")"
   ]
  },
  {
   "cell_type": "code",
   "execution_count": 2,
   "metadata": {},
   "outputs": [],
   "source": [
    "def Mov2d(x,y):\n",
    "    r = ((x[0]-x[1])**2+(y[0]-y[1])**2)**(3/2)\n",
    "    return [x[2],x[3],-(x[0]-y[0])]"
   ]
  },
  {
   "cell_type": "code",
   "execution_count": null,
   "metadata": {},
   "outputs": [],
   "source": []
  }
 ],
 "metadata": {
  "kernelspec": {
   "display_name": "Python 3",
   "language": "python",
   "name": "python3"
  },
  "language_info": {
   "codemirror_mode": {
    "name": "ipython",
    "version": 3
   },
   "file_extension": ".py",
   "mimetype": "text/x-python",
   "name": "python",
   "nbconvert_exporter": "python",
   "pygments_lexer": "ipython3",
   "version": "3.7.1"
  }
 },
 "nbformat": 4,
 "nbformat_minor": 2
}
