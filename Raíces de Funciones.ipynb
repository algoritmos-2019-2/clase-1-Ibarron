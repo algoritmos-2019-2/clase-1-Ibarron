{
 "cells": [
  {
   "cell_type": "markdown",
   "metadata": {},
   "source": [
    "En este notebook, revisaremos algunos algoritmos para determinar las raíces de funciones\n",
    "\n",
    "### Métodos Clásicos\n",
    "* Bisección\n",
    "* Método de Newton \n",
    "* Método de la Secante"
   ]
  },
  {
   "cell_type": "markdown",
   "metadata": {},
   "source": [
    "### Bisección\n",
    "\n",
    "En un **bracket** es un intervalo $[a,b]$ que contiene exactamente un cero o mínimos / máximos de interés\n",
    "\n",
    "En el caso de un cero, el corchete debe satisfacer:\n",
    "$$\n",
    "    \\text{sign}(f(a)) \\neq \\text{sign}(f(b)).\n",
    "$$\n",
    "\n",
    "En caso de un máximo o un mínimo necesitamos: \n",
    "$$\n",
    "    \\text{sign}(f'(a)) \\neq \\text{sign}(f'(b))\n",
    "$$"
   ]
  },
  {
   "cell_type": "markdown",
   "metadata": {},
   "source": [
    "**Teorema**:  \n",
    "\n",
    "Sea\n",
    "$$\n",
    "    f(x) \\in C[a,b] \\quad \\text{and} \\quad \\text{sign}(f(a)) \\neq \\text{sign}(f(b))\n",
    "$$\n",
    "\n",
    "entonces existe un número \n",
    "$$\n",
    "    c \\in (a,b) \\quad \\text{s.t.} \\quad f(c) = 0.\n",
    "$$"
   ]
  },
  {
   "cell_type": "markdown",
   "metadata": {},
   "source": [
    "#### Algoritmo de la bisección\n",
    "\n",
    "Dado un corchete $ [a, b] $ y una función $ f (x) $. El método consiste de tres sucesiones ${\\displaystyle a_{n}\\leq p_{n}\\leq b_{n}\\,}$ definidas por las siguientes relaciones:\n",
    "\n",
    "\\begin{equation}\n",
    "p_{n} = \\dfrac{a_n + b_n}{2}, \\quad a_{n+1}={\\begin{cases}a_{n}&{\\mbox{si }}f(a_{n})\\cdot f(p_{n})<0\\\\p_{n}&{\\mbox{si }}f(a_{n})\\cdot f(p_{n})>0\\end{cases}} \\quad  b_{n+1}={\\begin{cases}b_{n}&{\\mbox{si }}f(b_{n})\\cdot f(p_{n})<0\\\\p_{n}&{\\mbox{si }}f(b_{n})\\cdot f(p_{n})>0\\end{cases}}\n",
    "\\end{equation}\n",
    "\n",
    "\n",
    "    \n",
    "A continuación tenemos el psudocódigo para este método\n",
    "\n",
    "**INPUT**: Función ```f```,\n",
    "\n",
    "los extremos de intervalo ```a```, ```b```, \n",
    "       \n",
    "una tolerancia ```TOL```, \n",
    "       \n",
    "el número máximo de iteraciones ```NMAX```\n",
    "       \n",
    "**CONDITIONS**: a < b, \n",
    "\n",
    "ya sea ```f(a) < 0``` y ```f(b) > 0``` o ```f(a) > 0``` y ```f(b) < 0```\n",
    "            \n",
    "**OUTPUT**: valor que difiere de una raíz de $f (x) = 0$ en menos de ```TOL```\n",
    "\n",
    " \n",
    "```N ← 1```\n",
    "\n",
    "**while** ```N ≤ NMAX``` # acota las iteraciones para evitar un bucle infinito\n",
    "\n",
    "```c ← (a + b)/2``` # nuevo punto medio\n",
    "  \n",
    "  **If** ```f(c) = 0 or (b – a)/2 < TOL``` **then** # encontramos la solución\n",
    "  \n",
    "  ```Output(c)```\n",
    "    \n",
    "  **Stop**\n",
    "  \n",
    "  **End If**\n",
    "  \n",
    "  ```N ← N + 1``` # incrementamos el contador\n",
    "  **If** ```sign(f(c)) = sign(f(a))``` **then** ```a ← c``` **else** ```b ← c``` # nuevo intervalo\n",
    "  \n",
    "**EndWhile**\n",
    "```Output(\"Method failed.\") ``` # máximo número de pasos excedido"
   ]
  },
  {
   "cell_type": "markdown",
   "metadata": {},
   "source": [
    "import sys\n",
    "!{sys.executable} -m pip install scipy"
   ]
  },
  {
   "cell_type": "code",
   "execution_count": 1,
   "metadata": {},
   "outputs": [],
   "source": [
    "from numpy import *\n",
    "import matplotlib\n",
    "import matplotlib.pyplot as plt"
   ]
  },
  {
   "cell_type": "code",
   "execution_count": 2,
   "metadata": {},
   "outputs": [],
   "source": [
    "def MyBisection(f, a, b,  TOL= 1e-5, NMAX= 1000):\n",
    "\n",
    "# Initialize loop\n",
    "    x = b - a\n",
    "    c = a + (x/2.0)\n",
    "    fa = f(a)\n",
    "    fb = f(b)\n",
    "    fc = f(c)\n",
    "\n",
    "    # Loop until we reach the TOLERANCE or we take MAX_STEPS\n",
    "    for step in range(1, NMAX + 1):\n",
    "    \n",
    "\n",
    "        # Check tolerance - Could also check the size of delta_x\n",
    "        # We check this first as we have already initialized the values\n",
    "        # in c and f_c\n",
    "        if abs(fc) < TOL:\n",
    "            break\n",
    "\n",
    "        if sign(fa) != sign(fc):\n",
    "            b = c\n",
    "            fb = fc\n",
    "        else:\n",
    "            a = c\n",
    "            fa = fc\n",
    "        x = b - a\n",
    "        c = a + (x/2.0)\n",
    "        fc = f(c)\n",
    "        \n",
    "    if step == NMAX:\n",
    "        print(\"Reached maximum number of steps!\")\n",
    "    else:\n",
    "        print(\"Success!\")\n",
    "        print(\"  x* = %s\" % c)\n",
    "        print(\"  f(x*) = %s\" % f(c))\n",
    "        print(\"  number of steps = %s\" % step)"
   ]
  },
  {
   "cell_type": "code",
   "execution_count": 4,
   "metadata": {},
   "outputs": [],
   "source": [
    "f = lambda x : x**5 - x**2 +1"
   ]
  },
  {
   "cell_type": "code",
   "execution_count": 5,
   "metadata": {},
   "outputs": [
    {
     "name": "stdout",
     "output_type": "stream",
     "text": [
      "Success!\n",
      "  x* = -0.8087310791015625\n",
      "  f(x*) = -1.7978674726748523e-06\n",
      "  number of steps = 19\n"
     ]
    }
   ],
   "source": [
    "MyBisection(f,-3,5)"
   ]
  },
  {
   "cell_type": "markdown",
   "metadata": {},
   "source": [
    "### Método de Newton (Newton-Raphson)\n",
    " \n",
    " Es una de las técnicas numéricas para resolver un problema de búsqueda de raíces $f(x) = 0$ más conocidas y poderosas\n",
    " \n",
    " Supongamos $f \\in \\mathcal{C}^2[a,b]$. Sea $\\bar{x} \\in [a,b]$ una aproximación de $p$ tal que $f'(\\bar{x}) \\neq 0$ y $p- \\bar{x}$ es pequeño. Consideremos el primer polinomio de Taylor para $f(x)$ desarrollamos alrededor de $\\bar{x}$.\n",
    " \n",
    " $$f(x) = f(\\bar{x}) + (x-\\bar{x})f'(\\bar{x}) + \\dfrac{(x- \\bar{x})^2}{2} f''(\\xi)$$\n",
    " \n",
    " donde $\\xi \\in [a,b]$. Dado $f(p) = 0$\n",
    " $$0 = f(\\bar{x}) + (p -\\bar{x})f'(\\bar{x}) + \\dfrac{(p - \\bar{x})^2}{2} f''(\\xi)$$\n",
    " \n",
    " puesto que supusimos $\\vert p - \\bar{x}\\vert$ es muy pequeño, los términmos de orden cuadrados son despreciables.\n",
    " $$ 0 \\approx f(\\bar{x}) +  (p-\\bar{x})f'(\\bar{x})$$\n",
    " \n",
    " Despejando $p$\n",
    " \n",
    " $$p \\approx \\bar{x} - \\dfrac{f(\\bar{x})}{f'(\\bar{x})}$$"
   ]
  },
  {
   "cell_type": "markdown",
   "metadata": {},
   "source": [
    "A continuación tenemos el psudocódigo para este método\n",
    "\n",
    "**INPUT**: Función ```f```,\n",
    "\n",
    "aproximación inicial ```p0```, \n",
    "       \n",
    "una tolerancia ```TOL```, \n",
    "       \n",
    "el número máximo de iteraciones ```NMAX```\n",
    "            \n",
    "**OUTPUT**: valor que difiere de una raíz de $f (x) = 0$ en menos de ```TOL```\n",
    "\n",
    " \n",
    "**step 1**```N ← 1```\n",
    "\n",
    "**step 2** ```while N ≤ NMAX``` # acota las iteraciones para evitar un bucle infinito\n",
    "\n",
    "> **step 3** ```p ← p0 - f(p0)/f'(p0)``` #\n",
    "\n",
    "> **step 4** Si  ```| p - p0 | < TOL``` #  Entonces\n",
    "\n",
    "> **OUTPUT** p\n",
    "\n",
    "> **step 5**```i ← i +1```\n",
    "\n",
    "> **step 6**```p0 ← p```\n",
    "\n",
    "**step 7** ```OUTPUT```\n"
   ]
  },
  {
   "cell_type": "code",
   "execution_count": 16,
   "metadata": {},
   "outputs": [],
   "source": [
    "def MyNewton(f, fp, p0,  TOL= 1e-5, NMAX= 200):\n",
    "\n",
    "    for n in range(1, NMAX + 1):\n",
    "        p0 = p0 - f(p0) / fp(p0)\n",
    "        if abs(f(p0)) < TOL:\n",
    "            break\n",
    "        \n",
    "    if n == NMAX:\n",
    "        print(\"Reached maximum number of steps!\")\n",
    "    else:\n",
    "        #print(\"Success!\")\n",
    "        #print(\"  x* = %s\" % x_k)\n",
    "        #print(\"  f(x*) = %s\" % f(x_k))\n",
    "        #print(\"  number of steps = %s\" % n)\n",
    "        return p0"
   ]
  },
  {
   "cell_type": "code",
   "execution_count": 17,
   "metadata": {},
   "outputs": [],
   "source": [
    "fp = lambda x : 5*x**4 - 2*x"
   ]
  },
  {
   "cell_type": "code",
   "execution_count": 18,
   "metadata": {},
   "outputs": [
    {
     "data": {
      "text/plain": [
       "-0.8087306005219113"
      ]
     },
     "execution_count": 18,
     "metadata": {},
     "output_type": "execute_result"
    }
   ],
   "source": [
    "MyNewton(f,fp,-3)"
   ]
  },
  {
   "cell_type": "markdown",
   "metadata": {},
   "source": [
    "### Cuencas de atracción\n",
    "\n",
    "Dado un punto $ x_0 $, ¿podemos determinar si Newton-Raphson converge?\n",
    "\n",
    "Una *cuenca de atracción* $ X $ para los métodos de Newton se define como el conjunto tal que $ \\forall x \\in X $ Newton iterations converge. Desafortunadamente, esto está lejos de ser algo trivial para determinar e incluso para funciones simples pueden conducir a regiones que son fractales.\n",
    "\n",
    "A continuación se presentan dos ecuaciones bastante simples que demuestran el problema:\n",
    "1. $ f (x) = x ^ 3 - 1 $\n",
    "2. La ecuación de Kepler $ \\theta - e \\sin \\theta = M $"
   ]
  },
  {
   "cell_type": "code",
   "execution_count": 19,
   "metadata": {},
   "outputs": [
    {
     "data": {
      "text/plain": [
       "array([[0., 0.],\n",
       "       [0., 0.],\n",
       "       [0., 0.]])"
      ]
     },
     "execution_count": 19,
     "metadata": {},
     "output_type": "execute_result"
    }
   ],
   "source": [
    "zeros(6).reshape((3, 2))"
   ]
  },
  {
   "cell_type": "code",
   "execution_count": 20,
   "metadata": {},
   "outputs": [],
   "source": [
    "g = lambda x : x**3 - 1\n",
    "gp = lambda x : 3*x**2\n",
    "\n",
    "x0s =  arange(-2,2,0.01)\n",
    "\n",
    "count = 0\n",
    "z0s = zeros(len(x0s)*len(x0s))\n",
    "\n",
    "for i in x0s:\n",
    "    for j in x0s:\n",
    "        \n",
    "        x0 =  i + j*1j \n",
    "        #print(x0)\n",
    "        z0 = MyNewton(g, gp, x0)\n",
    "        z0s[count] = z0.real + z0.imag\n",
    "        count +=1\n",
    "\n",
    "\n"
   ]
  },
  {
   "cell_type": "code",
   "execution_count": 21,
   "metadata": {},
   "outputs": [
    {
     "data": {
      "image/png": "[encoded data removed]",
      "text/plain": [
       "<Figure size 504x504 with 1 Axes>"
      ]
     },
     "metadata": {
      "needs_background": "light"
     },
     "output_type": "display_data"
    }
   ],
   "source": [
    "harvest = z0s.reshape((len(x0s), len(x0s)))\n",
    "\n",
    "\n",
    "fig, ax = plt.subplots(figsize=(7, 7))\n",
    "im = ax.imshow(harvest)\n",
    "plt.show()"
   ]
  },
  {
   "cell_type": "markdown",
   "metadata": {},
   "source": [
    "!pip3 install --upgrade\n",
    "!pip3 install sympy "
   ]
  },
  {
   "cell_type": "code",
   "execution_count": 22,
   "metadata": {},
   "outputs": [],
   "source": [
    "from sympy import *"
   ]
  },
  {
   "cell_type": "code",
   "execution_count": 23,
   "metadata": {},
   "outputs": [],
   "source": [
    "x, y = symbols('x , y')"
   ]
  },
  {
   "cell_type": "code",
   "execution_count": 24,
   "metadata": {},
   "outputs": [
    {
     "data": {
      "text/plain": [
       "sympy.core.symbol.Symbol"
      ]
     },
     "execution_count": 24,
     "metadata": {},
     "output_type": "execute_result"
    }
   ],
   "source": [
    "type(x)"
   ]
  },
  {
   "cell_type": "code",
   "execution_count": 46,
   "metadata": {},
   "outputs": [],
   "source": [
    "fx = sin(x) "
   ]
  },
  {
   "cell_type": "code",
   "execution_count": 47,
   "metadata": {},
   "outputs": [
    {
     "data": {
      "text/plain": [
       "sin(x)"
      ]
     },
     "execution_count": 47,
     "metadata": {},
     "output_type": "execute_result"
    }
   ],
   "source": [
    "fx"
   ]
  },
  {
   "cell_type": "code",
   "execution_count": 48,
   "metadata": {},
   "outputs": [],
   "source": [
    "fxx=diff(fx,x,4)"
   ]
  },
  {
   "cell_type": "code",
   "execution_count": 52,
   "metadata": {},
   "outputs": [
    {
     "data": {
      "text/plain": [
       "sin(x)"
      ]
     },
     "execution_count": 52,
     "metadata": {},
     "output_type": "execute_result"
    }
   ],
   "source": [
    "fxx"
   ]
  },
  {
   "cell_type": "code",
   "execution_count": 28,
   "metadata": {},
   "outputs": [
    {
     "data": {
      "text/plain": [
       "<function __main__.<lambda>(x)>"
      ]
     },
     "execution_count": 28,
     "metadata": {},
     "output_type": "execute_result"
    }
   ],
   "source": [
    "f"
   ]
  },
  {
   "cell_type": "code",
   "execution_count": 18,
   "metadata": {},
   "outputs": [
    {
     "data": {
      "text/plain": [
       "sympy.core.numbers.Integer"
      ]
     },
     "execution_count": 18,
     "metadata": {},
     "output_type": "execute_result"
    }
   ],
   "source": [
    "type(diff(f(x),x).subs(x, 1))"
   ]
  },
  {
   "cell_type": "code",
   "execution_count": 19,
   "metadata": {},
   "outputs": [],
   "source": [
    "def MyNewNewton(f, x_k,  TOL= 1e-5, NMAX= 200):\n",
    "    x = symbols('x')\n",
    "    fp = diff(f(x),x)\n",
    "    for n in range(1, NMAX + 1):\n",
    "        x_k = x_k - f(x_k) / float(fp.subs(x,x_k))\n",
    "        if abs(f(x_k)) < TOL:\n",
    "            break\n",
    "        \n",
    "    if n == NMAX:\n",
    "        print(\"Reached maximum number of steps!\")\n",
    "    else:\n",
    "        #print(\"Success!\")\n",
    "        #print(\"  x* = %s\" % x_k)\n",
    "        #print(\"  f(x*) = %s\" % f(x_k))\n",
    "        #print(\"  number of steps = %s\" % n)\n",
    "        return x_k"
   ]
  },
  {
   "cell_type": "code",
   "execution_count": 20,
   "metadata": {},
   "outputs": [
    {
     "data": {
      "text/plain": [
       "-0.8087306005219113"
      ]
     },
     "execution_count": 20,
     "metadata": {},
     "output_type": "execute_result"
    }
   ],
   "source": [
    "MyNewNewton(f, -3)"
   ]
  },
  {
   "cell_type": "code",
   "execution_count": 41,
   "metadata": {},
   "outputs": [],
   "source": [
    "from scipy import optimize"
   ]
  },
  {
   "cell_type": "code",
   "execution_count": 42,
   "metadata": {},
   "outputs": [
    {
     "data": {
      "text/plain": [
       "-0.8087306004793919"
      ]
     },
     "execution_count": 42,
     "metadata": {},
     "output_type": "execute_result"
    }
   ],
   "source": [
    "optimize.newton(f, -3, fprime=lambda x: 5*x**4 - 2*x)"
   ]
  },
  {
   "cell_type": "markdown",
   "metadata": {},
   "source": [
    "### Método de la secante\n",
    "\n",
    "Este método proporciona una solución a $f(x)=0$ dada aproximaciones inicales $p_0$ y $p_1$. El algoritmo se muestra a continuación"
   ]
  },
  {
   "cell_type": "markdown",
   "metadata": {},
   "source": [
    "A continuación tenemos el psudocódigo para este método\n",
    "\n",
    "**INPUT**: Función ```f```,\n",
    "\n",
    "aproximación inicaales ```p0``` y ```p1```, \n",
    "       \n",
    "una tolerancia ```TOL```, \n",
    "       \n",
    "el número máximo de iteraciones ```NMAX```\n",
    "            \n",
    "**OUTPUT**: valor que difiere de una raíz de $f (x) = 0$ en menos de ```TOL```\n",
    "\n",
    " \n",
    "**step 1**```N ← 1```\n",
    "> ```q0 ← f(p0)```\n",
    "\n",
    "> ```q1 ← f(p1)```\n",
    "\n",
    "\n",
    "**step 2** ```while N ≤ NMAX``` hacer paso 3-6# acota las iteraciones para evitar un bucle infinito\n",
    "\n",
    "> **step 3** ```p ← p1 - q1(p1 - p0))/(q1 - q0)``` #\n",
    "\n",
    "> **step 4** Si  ```| p - p1 | < TOL``` #  Entonces\n",
    "\n",
    "> **OUTPUT** p\n",
    "\n",
    "> **step 5**```i ← i +1```\n",
    "\n",
    "> **step 6**```p0 ← p1```, ```q0 ← q1```, ```p1 ← p0``` y ```q1 ← f(p)``` \n",
    "\n",
    "**step 7** ```OUTPUT```\n",
    "\n"
   ]
  },
  {
   "cell_type": "code",
   "execution_count": 23,
   "metadata": {},
   "outputs": [],
   "source": [
    "def MySecant(f, p0, p1, TOL= 1e-5, NMAX= 200):\n",
    "    #x = symbols('x')\n",
    "    #fp = diff(f(x),x)\n",
    "    q0, q1 = f(p0), f(p1)\n",
    "    for n in range(1, NMAX + 1):\n",
    "        p = p1 - q1*(p1-p0)/(q1 - q0)\n",
    "        if abs(p - p1) < TOL:\n",
    "            break\n",
    "        p0 = p1\n",
    "        q0 = q1\n",
    "        p1 = p\n",
    "        q1 = f(p)\n",
    "    if n == NMAX:\n",
    "        print(\"Reached maximum number of steps!\")\n",
    "    else:\n",
    "        #print(\"Success!\")\n",
    "        #print(\"  x* = %s\" % x_k)\n",
    "        #print(\"  f(x*) = %s\" % f(x_k))\n",
    "        #print(\"  number of steps = %s\" % n)\n",
    "        return p"
   ]
  },
  {
   "cell_type": "code",
   "execution_count": 24,
   "metadata": {},
   "outputs": [
    {
     "data": {
      "text/plain": [
       "-0.8087306004591074"
      ]
     },
     "execution_count": 24,
     "metadata": {},
     "output_type": "execute_result"
    }
   ],
   "source": [
    "MySecant(f, -3, 1)"
   ]
  },
  {
   "cell_type": "code",
   "execution_count": 25,
   "metadata": {},
   "outputs": [
    {
     "data": {
      "text/plain": [
       "7.619593844765404e-11"
      ]
     },
     "execution_count": 25,
     "metadata": {},
     "output_type": "execute_result"
    }
   ],
   "source": [
    "f(-0.8087306004591074)"
   ]
  },
  {
   "cell_type": "markdown",
   "metadata": {},
   "source": [
    "## Proyecto Raíces de Funciones\n",
    "\n",
    "### 1.- Newton multidimensional\n",
    "\n",
    "Defina una función ```MyNewton2d(F, x_k,  TOL= 1e-5, NMAX= 200)```\n",
    "cuyos argumentos sean\n",
    "* Una función $F: \\mathbb{R}^2 \\mapsto \\mathbb{R}^2$\n",
    "* $\\vec{x}_k \\in \\mathbb{R}^2$\n",
    "\n",
    "y con esto calcule la raíz de $F$ mediante la siguiente regla de iteración $\\vec{x}_{n+1} = \\vec{x}_n - [D_{\\vec{x}_n}F]^{-1}*F(\\vec{x}_n)$\n",
    "\n",
    "donde $[D_{\\vec{x}_n}F]^{-1}$ es la inversa de la matriz Jacobiana de $F$ en $\\vec{x}_{n}$, la cual se debe calcular de manera simbolica. \n",
    "\n",
    "\n",
    "Mostraremos rápidamente como calcular la matriz Jacobiana de una función de $ \\mathbb{R}^2 $ en  $\\mathbb{R}^2$ "
   ]
  },
  {
   "cell_type": "markdown",
   "metadata": {},
   "source": [
    "Definimos los simbolos ```x,y```"
   ]
  },
  {
   "cell_type": "code",
   "execution_count": 30,
   "metadata": {},
   "outputs": [],
   "source": [
    "x, y = symbols('x , y')"
   ]
  },
  {
   "cell_type": "markdown",
   "metadata": {},
   "source": [
    "La función a derivar es:"
   ]
  },
  {
   "cell_type": "code",
   "execution_count": 31,
   "metadata": {},
   "outputs": [],
   "source": [
    "F = lambda x,y: [sin(x*y), exp(x+y)]"
   ]
  },
  {
   "cell_type": "markdown",
   "metadata": {},
   "source": [
    "Aquí usamos el método ```Matrix``` para darle estructura de matriz a ```F``` y con el método ```jacobian([])``` calculamos la Jacobianaç"
   ]
  },
  {
   "cell_type": "code",
   "execution_count": 32,
   "metadata": {},
   "outputs": [],
   "source": [
    "DF = Matrix(F(x,y)).jacobian([x, y])"
   ]
  },
  {
   "cell_type": "code",
   "execution_count": 33,
   "metadata": {},
   "outputs": [
    {
     "data": {
      "text/plain": [
       "Matrix([\n",
       "[y*cos(x*y), x*cos(x*y)],\n",
       "[exp(x + y), exp(x + y)]])"
      ]
     },
     "execution_count": 33,
     "metadata": {},
     "output_type": "execute_result"
    }
   ],
   "source": [
    "DF"
   ]
  },
  {
   "cell_type": "markdown",
   "metadata": {},
   "source": [
    "Ahora evaluemos la matriz Jacobiana en $x =0$ y $y=2$"
   ]
  },
  {
   "cell_type": "code",
   "execution_count": 30,
   "metadata": {},
   "outputs": [],
   "source": [
    "DFM = DF.subs({\"x\":0,\"y\":2})"
   ]
  },
  {
   "cell_type": "code",
   "execution_count": 31,
   "metadata": {},
   "outputs": [
    {
     "data": {
      "text/plain": [
       "Matrix([\n",
       "[     2,      0],\n",
       "[exp(2), exp(2)]])"
      ]
     },
     "execution_count": 31,
     "metadata": {},
     "output_type": "execute_result"
    }
   ],
   "source": [
    "DFM"
   ]
  },
  {
   "cell_type": "markdown",
   "metadata": {},
   "source": [
    "Pruebe ```MyNewtonMultidim()``` para $F(x,y)=\\dfrac{1}{2} \\left( 1 + \\frac{\\sin(x)}{4}+ y ,  1 + \\sin(y)+ x  \\right)$"
   ]
  },
  {
   "cell_type": "markdown",
   "metadata": {},
   "source": [
    "¿Cómo podría extender este método para dimensión mayor o igual que 3?"
   ]
  },
  {
   "cell_type": "markdown",
   "metadata": {},
   "source": [
    "### 2.-\n",
    "\n",
    "El medicamento administrado a un paciente produce una concentración en la corriente sanguínea dada por $c(t)= Ate^{-t/3}$ miligramos por mililitros, t horas después de inyectarse A unidades, la máxima concentración segura es de $1mg/ml$\n",
    "\n",
    "* ¿Qúe dosis deberá inyectársele al paciente para alcanzar la máxima concentración segura y cuándo se alcaza esta concentración?\n",
    "\n",
    "* Una cantidad adicional de medicamento deberá administrarse al paciente después de que la concentración disminuya a $0. 25 mg/ml$. Determine, con una aproximación al minuto más cercano, cuándo debe aplicarse la segunda inyección.\n",
    "\n",
    "* Suponiendo que la concentración producida por inyecciones consecutivas es aditiva y que $75\\%$ de la dosis inyectada originalmente se administra en la segunda inyección. ¿Cuándo será monento de aplicar la tercera inyección?"
   ]
  },
  {
   "cell_type": "markdown",
   "metadata": {},
   "source": [
    "### Interpretación Geométrica\n",
    "\n",
    "Explique detallamente la interpretación de los métodos descritos anteriormente."
   ]
  },
  {
   "cell_type": "code",
   "execution_count": 36,
   "metadata": {},
   "outputs": [],
   "source": [
    "F = lambda x: [A*(x)*exp**(-x/3)]"
   ]
  },
  {
   "cell_type": "code",
   "execution_count": 44,
   "metadata": {},
   "outputs": [
    {
     "data": {
      "text/plain": [
       "-0.8087306004793919"
      ]
     },
     "execution_count": 44,
     "metadata": {},
     "output_type": "execute_result"
    }
   ],
   "source": [
    "optimize.newton(f, -3, fprime=lambda x: 5*x**4 - 2*x)"
   ]
  },
  {
   "cell_type": "code",
   "execution_count": 45,
   "metadata": {},
   "outputs": [
    {
     "ename": "SyntaxError",
     "evalue": "unexpected EOF while parsing (<ipython-input-45-049d7bc8a1ce>, line 1)",
     "output_type": "error",
     "traceback": [
      "\u001b[0;36m  File \u001b[0;32m\"<ipython-input-45-049d7bc8a1ce>\"\u001b[0;36m, line \u001b[0;32m1\u001b[0m\n\u001b[0;31m    optimize.newton(f, -3, fprime=lambda x:[A*(x)*exp**(-x/3)]\u001b[0m\n\u001b[0m                                                              ^\u001b[0m\n\u001b[0;31mSyntaxError\u001b[0m\u001b[0;31m:\u001b[0m unexpected EOF while parsing\n"
     ]
    }
   ],
   "source": [
    "optimize.newton(f, -3, fprime=lambda x:[A*(x)*exp**(-x/3)]"
   ]
  },
  {
   "cell_type": "code",
   "execution_count": null,
   "metadata": {},
   "outputs": [],
   "source": []
  }
 ],
 "metadata": {
  "kernelspec": {
   "display_name": "Python 3",
   "language": "python",
   "name": "python3"
  },
  "language_info": {
   "codemirror_mode": {
    "name": "ipython",
    "version": 3
   },
   "file_extension": ".py",
   "mimetype": "text/x-python",
   "name": "python",
   "nbconvert_exporter": "python",
   "pygments_lexer": "ipython3",
   "version": "3.7.1"
  }
 },
 "nbformat": 4,
 "nbformat_minor": 2
}
