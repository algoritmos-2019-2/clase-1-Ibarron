{
 "cells": [
  {
   "cell_type": "markdown",
   "metadata": {},
   "source": [
    "# Proyecto Práctico"
   ]
  },
  {
   "cell_type": "markdown",
   "metadata": {},
   "source": [
    "testPrime() que verifique si un número es primo.\n",
    "\n",
    "prime() que genere los primos menores o iguales que .\n",
    "\n",
    "twinPrime() que regrese una tupla con los primos gemelos menores o iguales que \n",
    "\n",
    "theoremArihtmetic() que regrese una lista con la descomposión en potencias de primos para cualquier\n",
    "\n",
    "mcm() que regrese el mínimo común multiplo de dos enteros.\n",
    "\n",
    "MCD() que regrese el máximo común divisor de dos enteros.\n"
   ]
  },
  {
   "cell_type": "code",
   "execution_count": 3,
   "metadata": {},
   "outputs": [
    {
     "name": "stdout",
     "output_type": "stream",
     "text": [
      "Ingresa el numero deseado: 8\n",
      "No es primo\n"
     ]
    }
   ],
   "source": [
    "#testPrime()=\n",
    "\n",
    "n= int(input(\"Ingresa el numero deseado: \")) #aqui le damos la opción al usuario de escribir el numero deseado\n",
    "\n",
    "x=0 #definimos una variable que empiece en 0\n",
    "\n",
    "for i in range (1, n+1): #Con el for hacemos que haya una 'i' desde el rango 1 hasta el numero \n",
    "\n",
    "    if n%i ==0 : #Lo que pasa aqui es que se divida el numero ingresado entre todos los numeros anteriores a él \n",
    "\n",
    "        x= x+1 #y si su residuo es 0 sumarle 1 cada vez que se divida a nuestra variable x=0 \n",
    "\n",
    "if (x!=2): # si el numero x fue dividido mas de 2 veces entonces no es primo\n",
    "\n",
    "    print(\"No es primo\")\n",
    "\n",
    "else: #en caso contrario es primo\n",
    "\n",
    "    print (\"si es primo\")"
   ]
  },
  {
   "cell_type": "code",
   "execution_count": 4,
   "metadata": {},
   "outputs": [
    {
     "name": "stdout",
     "output_type": "stream",
     "text": [
      "Ingresa el primer numero del rango mayor que o igual a 2: 7\n",
      "Ingresa el ultimo numero del rango: 20\n",
      "7\n",
      "11\n",
      "13\n",
      "17\n",
      "19\n"
     ]
    }
   ],
   "source": [
    "#prime()\n",
    "\n",
    "primos = [2] #creamos una lista llamada primos\n",
    "\n",
    "k= int(input (\"Ingresa el primer numero del rango mayor que o igual a 2: \"))\n",
    "\n",
    "n = int(input(\"Ingresa el ultimo numero del rango: \"))\n",
    "\n",
    "for x in range(k, n): \n",
    "\n",
    "    for i in range(2, x):\n",
    "\n",
    "        if x%i != 0: #i no es divisor de x, x puede ser primo\n",
    "\n",
    "            continue\n",
    "\n",
    "        else: #i es divisor de x, x no es primo\n",
    "\n",
    "            break #No es necesario buscar más divisores\n",
    "\n",
    "    else: #El segundo bucle for ha terminado con normalidad El número que estábamos comprobando es primo\n",
    "\n",
    "        print ('%d'%x) #imprime el numero obtenido con el segundo for\n",
    "\n",
    "        primos.append(x) #se agrega a la lista progresivamente\n"
   ]
  },
  {
   "cell_type": "code",
   "execution_count": 6,
   "metadata": {},
   "outputs": [
    {
     "name": "stdout",
     "output_type": "stream",
     "text": [
      "Ingresa el numero que se factorizara: 100\n",
      "2\n",
      "2\n",
      "5\n",
      "5\n"
     ]
    }
   ],
   "source": [
    "#theoremArihtmetic()\n",
    "\n",
    "numero= float(input ( \"Ingresa el numero que se factorizara: \"))\n",
    "\n",
    "x= 2\n",
    "\n",
    "while (numero != 1): #hacemos un bucle, que se repetira mientras el numero escrito sea dif de 1\n",
    "\n",
    "    if (numero % x == 0): #si el residuo del numero entre la 'x'\n",
    "\n",
    "        print (str(x)) #imprime el numero x con string\n",
    "\n",
    "        numero = numero / x #luego el numero se divide entre el x\n",
    "\n",
    "    else:\n",
    "\n",
    "        x = x+1\n",
    "\n"
   ]
  },
  {
   "cell_type": "code",
   "execution_count": 7,
   "metadata": {},
   "outputs": [
    {
     "name": "stdout",
     "output_type": "stream",
     "text": [
      "Introduce el primer numero: 6\n",
      "Introduce el segundo numero: 5\n",
      "El máximo común divisor de  6  y  5  es:  1\n"
     ]
    }
   ],
   "source": [
    "#Maximocomundivisor\n",
    "\n",
    "num1 = int(input(\"Introduce el primer numero: \"))\n",
    "\n",
    "num2 = int(input(\"Introduce el segundo numero: \"))\n",
    "\n",
    "def mcd(num1, num2):\n",
    "\n",
    "    x = 0\n",
    "\n",
    "    while(num2 > 0):\n",
    "\n",
    "        x = num2\n",
    "\n",
    "        num2 = num1 % num2\n",
    "\n",
    "        num1 = x\n",
    "\n",
    "    return num1\n",
    "\n",
    "print(\"El máximo común divisor de \", num1,\" y \", num2,\" es: \", mcd(num1,num2))\n",
    "\n",
    "\n",
    "\n"
   ]
  },
  {
   "cell_type": "code",
   "execution_count": 8,
   "metadata": {},
   "outputs": [
    {
     "name": "stdout",
     "output_type": "stream",
     "text": [
      "Introduce el primer numero: 18\n",
      "Introduce el segundo numero: 12\n",
      "El minimo común multiplicador entre:  18  y  12 es:  36.0\n"
     ]
    }
   ],
   "source": [
    "#MinimoComunMultiplo\n",
    "\n",
    "num1 = int(input(\"Introduce el primer numero: \"))\n",
    "\n",
    "num2 = int(input(\"Introduce el segundo numero: \"))\n",
    "\n",
    "def mcd(num1, num2):\n",
    "\n",
    "    a = max(num1, num2)\n",
    "\n",
    "    b = min(num1, num2)\n",
    "\n",
    "    while b!=0:\n",
    "\n",
    "        mcd = b\n",
    "\n",
    "        b = a%b\n",
    "\n",
    "        a = mcd\n",
    "\n",
    "    return mcd\n",
    "\n",
    "def mcm(num1, num2):\n",
    "\n",
    "    a = max(num1, num2)\n",
    "\n",
    "    b = min(num1, num2)\n",
    "\n",
    "    mcm = (a / mcd(a, b)) * b\n",
    "\n",
    "    return mcm\n",
    "\n",
    "print (\"El minimo común multiplicador entre: \", num1, \" y \", num2, \"es: \", mcm(num1,num2))\n",
    "\n"
   ]
  },
  {
   "cell_type": "code",
   "execution_count": null,
   "metadata": {},
   "outputs": [],
   "source": []
  }
 ],
 "metadata": {
  "kernelspec": {
   "display_name": "Python 3",
   "language": "python",
   "name": "python3"
  },
  "language_info": {
   "codemirror_mode": {
    "name": "ipython",
    "version": 3
   },
   "file_extension": ".py",
   "mimetype": "text/x-python",
   "name": "python",
   "nbconvert_exporter": "python",
   "pygments_lexer": "ipython3",
   "version": "3.6.7"
  }
 },
 "nbformat": 4,
 "nbformat_minor": 2
}
