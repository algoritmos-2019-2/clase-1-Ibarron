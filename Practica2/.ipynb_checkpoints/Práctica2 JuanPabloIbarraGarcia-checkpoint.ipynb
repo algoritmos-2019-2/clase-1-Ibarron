{
 "cells": [
  {
   "cell_type": "markdown",
   "metadata": {},
   "source": [
    "## Preguntas"
   ]
  },
  {
   "cell_type": "markdown",
   "metadata": {},
   "source": [
    "   * ¿Por qué son ventajosas las funciones para tener en sus programas?\n",
    "  \n",
    "    R= Existen muchas funciones 'extra' que te facilitan el uso de las funciones normales, te reducen el tiempo y te facilita programar. \n",
    "   *  ¿Cuándo se ejecuta el código en una función: cuando se define la función o cuando se llama a la función?\n",
    "   \n",
    "    R= Se define al inicio de cada programa, ya se una función global o un función dentro del programa\n",
    "   * ¿Qué enunciado crea una función?\n",
    "   \n",
    "   R= def 'función'()\n",
    "   * ¿Cuál es la diferencia entre una función y una llamada de función?\n",
    "   \n",
    "   R= La función es la que definimos en el codigo, y la llamada se puede hacer desde otro lado del codigo escribiendo la función justo como se definio anteriormente\n",
    "   * ¿Cuántos ámbitos globales hay en un programa de Python? ¿Cuántos ámbitos locales?\n",
    "   \n",
    "   R= las que se necesiten para el programa, al igual que los locales, aunque lo recomendable es que uses diferentes nombres para no confundirlo\n",
    "   * ¿Qué sucede con las variables en un ámbito local cuando se devuelve la llamada a la función?\n",
    "   \n",
    "   R= Para llamarlas se usa el comando 'return' en él se hace referencia a regresar a la función que se desea.\n",
    "   * ¿Qué es un valor de retorno? ¿Puede un valor de retorno ser parte de una expresión?\n",
    "   \n",
    "   R= El comando de un valor de retorno es 'return' lo que hace es volver a llamar la expresión que uno quiera, por esto siento que no puede ser parte de una expresión\n",
    "   * Si una función no tiene una declaración de retorno, ¿cuál es el valor de retorno de una llamada a esa función?.\n",
    "   \n",
    "   R= No regresa nada, es como si tuviera return (), no ejecuta algo extra\n",
    "   * ¿Cómo puede forzar una variable en una función para referirse a la variable global?\n",
    "   \n",
    "   R= escribiendo la función exactamente como se definió\n",
    "   * ¿Cuál es el tipo de datos de None?\n",
    "   \n",
    "   R= Esta definada como Nada o Ninguno\n",
    "   * ¿Qué hace la declaración import random?\n",
    "   \n",
    "   R= Lo que hace es llamar una función extra desde otra biblioteca, en este caso Random es llamar un numero aleatorio\n",
    "   * Si tuviera una función llamada randint() en un módulo llamado random, ¿cómo lo llamaría después de importar random?\n",
    "   \n",
    "   R= Se llama random.randit ()\n"
   ]
  },
  {
   "cell_type": "markdown",
   "metadata": {},
   "source": [
    "## Listas y Tuplas"
   ]
  },
  {
   "cell_type": "markdown",
   "metadata": {},
   "source": [
    "\n",
    "   * ¿Qué es []?\n",
    "   \n",
    "   R= Se utilizan los [] para definir una lista\n",
    "   * ¿Cómo asignaría el valor 'hola' como el tercer valor en una lista almacenada? en una variable llamada spam? \n",
    "   \n",
    "   R= para poder insertarlo un valor donde uno quiera, se tiene que tener la lista deseada ya definida, luego de esto con el comando insert, entonces: 'nombredelalista'.insert ('laposiciondondequierasquesemeta','loquequieresinsertar')\n",
    "  \n",
    "  * (Supongamos que el spam contiene [2, 4, 6, 8, 10].) Para las siguientes tres preguntas, digamos que spam contiene la lista [2, 4, 6, 8, 10].¿Qué evalúa spam[int ('3' * 2) / 11]?\n",
    "   \n",
    "   R=\n",
    "   * ¿Qué evalúa spam[-1]?\n",
    "   \n",
    "   R= Te mostrará siempre el ultimo elemento\n",
    "   * ¿Qué evalúa el spam[: 2]?\n",
    "   \n",
    "   R= Es un rango, por lo tanto te mostrará solo 2 elementos,es decir el elemento \"0\" y el '1' porque recordemos que el 0 es un numero natural en python.\n",
    "\n",
    "Para las siguientes tres preguntas, digamos que bacon contiene la lista [3.14, 'cat', 11, 'cat', True].\n",
    "\n",
    "   * ¿Qué evalúa bacon.index('cat')?\n",
    "   \n",
    "   R= Te dice la posición de la palabra 'cat' en la lista\n",
    "   * ¿Qué evalúa bacon.append(99)?\n",
    "   \n",
    "   R= Añade el numero 99, hasta el final de la lista\n",
    "   * ¿Qué hace bacon.remove('cat')?\n",
    "   \n",
    "   R= Elimina la palabra 'cat'\n",
    "   * ¿Cuáles son los operadores para la concatenación de listas y la replicación de listas?\n",
    "   \n",
    "   R= Para concatenar listas, se pude hacer de dos formas, sumando cada lista; lista1+lista2 ó se puede hacer con el comando extend. Para la replicación se utilizá el metodo 'copy()' para usarla tienes que importarla primero con 'import'\n",
    "   * ¿Cuál es la diferencia entre los métodos de lista append() e insert()?\n",
    "   \n",
    "   R= append() añade elementos pero siempre es al FINAL de la lista, insert() se añade en el lugar que tu quieras de la lista\n",
    "   * ¿Cuál es la diferencia entre listas y tuplas?\n",
    "   \n",
    "   R= La diferencia más importante es que la tupla es inmutable, en comparacióncon la lista\n"
   ]
  }
 ],
 "metadata": {
  "kernelspec": {
   "display_name": "Python 3",
   "language": "python",
   "name": "python3"
  },
  "language_info": {
   "codemirror_mode": {
    "name": "ipython",
    "version": 3
   },
   "file_extension": ".py",
   "mimetype": "text/x-python",
   "name": "python",
   "nbconvert_exporter": "python",
   "pygments_lexer": "ipython3",
   "version": "3.6.7"
  }
 },
 "nbformat": 4,
 "nbformat_minor": 2
}
