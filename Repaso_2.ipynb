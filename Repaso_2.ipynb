{
 "cells": [
  {
   "cell_type": "markdown",
   "metadata": {},
   "source": [
    "# Repaso 2\n",
    "\n",
    "## Algoritmos computacionales\n",
    "\n",
    "Resuelva los siguientes ejercicios. Elija los problemas que guste, cada problema vale 4 puntos.\n",
    "\n",
    "1. Escribe una función que reciba un número entre -9999999 y 9999999 y que regrese el mismo número pero en una cadena con formato rígido de 8 espacios. Por ejemplo, si el número proporcionado es ```3501```, el número que regresa es ```35010000```.\n",
    "    1. Haga una función que regrese el número anterior en orden invertido con el mismo formato rígido de ocho espacios. Es decir, si le proporcionamos ```3501```, el número que regresa es ```53010000```. \n",
    "    \n",
    "    Hint: Utilice la función anterior como primer paso. Si el número es negativo el signo debe tomase en cuenta y dejarlo a la izquierda.\n",
    "    2. Ahora haga una función que regrese la multiplicación de los dígitos distintos de cero. Es decir, si le proporcionamos ```3501```, el número que regresa es ```15``` que viene de multiplicar 3 por 5 y por 1. El número final debe llevar el mismo signo que el número original.\n",
    "\n",
    "2. Se tiene una partícula con carga $q$ y masa $m$ que está en un campo magnético $\\vec B = B_0 \\hat k$. La fuerza sobre la partícula es $\\vec F = q \\vec v \\times \\vec B$.\n",
    "\n",
    "    1. Realice una función que obtenga la solución $x(t)$ y $y(t)$ con condición inicial $x(0)=0$, $y(0)=0$, $v_x(0)=v_{0x}$ y $v_y(0)=v_{0y}$ tales que $v ^2_{0x} + v ^2_{0y} =1$ donde $v _{0x}$ es un número aleatorio entre 0 y 1.\n",
    "\n",
    "    2. Realice la gráfica en el plano $(x,y)$ para 100 trayectorias posibles.\n",
    "\n",
    "3. Realice una función que genere nombres de archivos con el siguiente formato: ```file_###.dat```, donde ```###``` es un número entre 0 y 999 que el usuario proporciona. Por ejemplo, supongamos que la función se llama ```generan_nombre(numero)``` y al utilizarla de la siguiente maneara ```genera_nombre(45)```proporciona el nombre de archivo: ```file_045.dat```.\n",
    "    1. Realice una función que proporciona un número aleatorio entre 0 y 999.\n",
    "    2. Utilice las dos funciones anteriores para generar 100 nombres de manera aleatoria. No importa si los nombres se repiten.\n",
    "    \n",
    "4. Realice una función que se llame ```mi_sinc(x,N_max=10)```, donde ```x``` es un número real y ```N_max``` es un entero que por default es 10. Esta función calcula la siguiente serie\n",
    "$$\n",
    "\\sum ^{N_{max}} _{n=0} \\frac{(-1)^n}{(2n+1)!} x^{2n} = 1-\\frac{x^2}{3!} + \\frac{x^4}{5!} - ...\n",
    "$$\n",
    "    1. Haga la gráfica de la serie anterior en el intervalo $x\\in [-5\\pi,5\\pi]$ con el valor de ```N_max``` que viene por default.\n",
    "    2. Ahora haga la gráfica de la función anterior en el mismo intervalo para $x$ pero ahora con ```N_max = 0,2,4,6,...,20``` y observe la evolución de la serie conforme se aumenta ```N_max```. (Todas las gráficas de este inciso deben estar en la misma gráfica)\n",
    "   "
   ]
  },
  {
   "cell_type": "markdown",
   "metadata": {},
   "source": [
    "1. Escribe una función que reciba un número entre -9999999 y 9999999 y que regrese el mismo número pero en una cadena con formato rígido de 8 espacios. Por ejemplo, si el número proporcionado es ```3501```, el número que regresa es ```35010000```.\n",
    "    1. Haga una función que regrese el número anterior en orden invertido con el mismo formato rígido de ocho espacios. Es decir, si le proporcionamos ```3501```, el número que regresa es ```53010000```. \n",
    "    \n",
    "    Hint: Utilice la función anterior como primer paso. Si el número es negativo el signo debe tomase en cuenta y dejarlo a la izquierda.\n",
    "    2. Ahora haga una función que regrese la multiplicación de los dígitos distintos de cero. Es decir, si le proporcionamos ```3501```, el número que regresa es ```15``` que viene de multiplicar 3 por 5 y por 1. El número final debe llevar el mismo signo que el número original."
   ]
  },
  {
   "cell_type": "code",
   "execution_count": 5,
   "metadata": {},
   "outputs": [],
   "source": [
    "from scipy.integrate import *\n",
    "from numpy import *\n",
    "from pylab import * "
   ]
  },
  {
   "cell_type": "code",
   "execution_count": 29,
   "metadata": {},
   "outputs": [],
   "source": [
    "import scipy.integrate"
   ]
  },
  {
   "cell_type": "code",
   "execution_count": 18,
   "metadata": {},
   "outputs": [],
   "source": [
    "def nume(n):\n",
    "    x1=str(n)\n",
    "    cadenat= []\n",
    "    for i in x1:\n",
    "        cadenat.append(i)\n",
    "#print (cadenat)\n",
    "    y=len(cadenat)\n",
    "#print (y)\n",
    "    while len(cadenat)<8:\n",
    "        cadenat.append (str(0))\n",
    "        if cadenat[0]== str(\"-\"):\n",
    "            cadenat.append(str(0))\n",
    "    #return cadenat\n",
    "    cadenajp=\"\".join (cadenat)\n",
    "    print(cadenajp)\n",
    "    if cadenat[0] == str(\"-\"):\n",
    "        cadenat.remove(\"-\")\n",
    "        cadena_invertida = cadenat[::-1]\n",
    "        cadena_invertida.insert(0,\"-\")\n",
    "        \n",
    "        cadenaj=\"\".join (cadena_invertida)\n",
    "        print(cadenaj)\n",
    "        print (cadena_invertida)\n",
    "        lasuma = suma(cadena_invertida)\n",
    "        print(lamu)\n",
    "    else:\n",
    "        cadena_invertida = cadenat[::-1]\n",
    "        cadenaj=\"\".join (cadena_invertida)\n",
    "        print(cadenaj)\n",
    "    \n",
    "\n",
    "    "
   ]
  },
  {
   "cell_type": "code",
   "execution_count": 22,
   "metadata": {},
   "outputs": [],
   "source": [
    "def suma(l):\n",
    "    aux =0 \n",
    "    for i in l:\n",
    "        if float(i) != 0:\n",
    "            aux = aux + int(i)\n",
    "    return aux "
   ]
  },
  {
   "cell_type": "code",
   "execution_count": 19,
   "metadata": {},
   "outputs": [
    {
     "name": "stdout",
     "output_type": "stream",
     "text": [
      "Escribe un numero entero entre -9999999 y 9999999:-12345\n",
      "-1234500\n",
      "-0054321\n",
      "['-', '0', '0', '5', '4', '3', '2', '1']\n"
     ]
    }
   ],
   "source": [
    "nume(int(input('Escribe un numero entero entre -9999999 y 9999999:')))"
   ]
  },
  {
   "cell_type": "code",
   "execution_count": 15,
   "metadata": {},
   "outputs": [],
   "source": [
    "s = \"5032310\""
   ]
  },
  {
   "cell_type": "code",
   "execution_count": 14,
   "metadata": {},
   "outputs": [
    {
     "data": {
      "text/plain": [
       "['5', '0', '3', '2', '3', '1', '0']"
      ]
     },
     "execution_count": 14,
     "metadata": {},
     "output_type": "execute_result"
    }
   ],
   "source": [
    "s.split()"
   ]
  },
  {
   "cell_type": "code",
   "execution_count": 2,
   "metadata": {},
   "outputs": [
    {
     "ename": "NameError",
     "evalue": "name 'i' is not defined",
     "output_type": "error",
     "traceback": [
      "\u001b[0;31m---------------------------------------------------------------------------\u001b[0m",
      "\u001b[0;31mNameError\u001b[0m                                 Traceback (most recent call last)",
      "\u001b[0;32m<ipython-input-2-74e5ef8c7feb>\u001b[0m in \u001b[0;36m<module>\u001b[0;34m\u001b[0m\n\u001b[1;32m      2\u001b[0m \u001b[0mcadenajp\u001b[0m \u001b[0;34m=\u001b[0m \u001b[0;34m[\u001b[0m\u001b[0;34m\"4\"\u001b[0m\u001b[0;34m,\u001b[0m\u001b[0;34m\"5\"\u001b[0m\u001b[0;34m,\u001b[0m\u001b[0;34m\"0\"\u001b[0m\u001b[0;34m]\u001b[0m\u001b[0;34m\u001b[0m\u001b[0;34m\u001b[0m\u001b[0m\n\u001b[1;32m      3\u001b[0m \u001b[0;32mfor\u001b[0m \u001b[0mj\u001b[0m \u001b[0;32min\u001b[0m \u001b[0mcadenajp\u001b[0m\u001b[0;34m:\u001b[0m\u001b[0;34m\u001b[0m\u001b[0;34m\u001b[0m\u001b[0m\n\u001b[0;32m----> 4\u001b[0;31m     \u001b[0mc\u001b[0m\u001b[0;34m.\u001b[0m\u001b[0mappend\u001b[0m\u001b[0;34m(\u001b[0m\u001b[0mi\u001b[0m\u001b[0;34m)\u001b[0m\u001b[0;34m\u001b[0m\u001b[0;34m\u001b[0m\u001b[0m\n\u001b[0m\u001b[1;32m      5\u001b[0m \u001b[0mprint\u001b[0m \u001b[0;34m(\u001b[0m\u001b[0mc\u001b[0m\u001b[0;34m)\u001b[0m\u001b[0;34m\u001b[0m\u001b[0;34m\u001b[0m\u001b[0m\n\u001b[1;32m      6\u001b[0m \u001b[0;34m\u001b[0m\u001b[0m\n",
      "\u001b[0;31mNameError\u001b[0m: name 'i' is not defined"
     ]
    }
   ],
   "source": [
    "c=[]\n",
    "cadenajp = [\"4\",\"5\",\"0\"]\n",
    "for j in cadenajp:\n",
    "    c.append(i)\n",
    "print (c)\n",
    "    "
   ]
  },
  {
   "cell_type": "code",
   "execution_count": null,
   "metadata": {},
   "outputs": [],
   "source": [
    "x=-3501\n",
    "x1=str(x)\n",
    "cadenat= []\n",
    "for i in x1:\n",
    "    cadenat.append(i)\n",
    "#print (cadenat)\n",
    "y=len(cadenat)\n",
    "#print (y)\n",
    "while len(cadenat)<8:\n",
    "    cadenat.append (str(0))\n",
    "    if cadenat[0]== str(\"-\"):\n",
    "        cadenat.append(str(0))\n",
    "cadenajp=\"\".join (cadenat)\n",
    "print(cadenajp)\n",
    "if cadenat[0] == str(\"-\"):\n",
    "    cadenat.remove(\"-\")\n",
    "    cadena_invertida = cadenat.reverse()\n",
    "    cadena_invertida.insert(0,\"-\")\n",
    "    print(cadena_invertida)\n",
    "    #cadenaj=\"\".join (cadena_invertida)\n",
    "    #print(cadenaj)\n",
    "else:\n",
    "    cadena_invertida = cadenat.reverse()\n",
    "    print(cadena_invertida)\n",
    "    #cadenaj=\"\".join (cadena_invertida)\n",
    "    #print(cadenaj)\n",
    "#print(cadenat)\n",
    "\n",
    "#for j in cadenat:\n",
    "    #print (j)\n",
    "    #if j>0:\n",
    "        \n",
    "        "
   ]
  },
  {
   "cell_type": "code",
   "execution_count": 61,
   "metadata": {},
   "outputs": [
    {
     "name": "stdout",
     "output_type": "stream",
     "text": [
      "20\n",
      "42\n"
     ]
    },
    {
     "ename": "IndexError",
     "evalue": "list index out of range",
     "output_type": "error",
     "traceback": [
      "\u001b[0;31m---------------------------------------------------------------------------\u001b[0m",
      "\u001b[0;31mIndexError\u001b[0m                                Traceback (most recent call last)",
      "\u001b[0;32m<ipython-input-61-9a449869a53d>\u001b[0m in \u001b[0;36m<module>\u001b[0;34m\u001b[0m\n\u001b[1;32m      7\u001b[0m     \u001b[0;32mreturn\u001b[0m \u001b[0mx\u001b[0m\u001b[0;34m\u001b[0m\u001b[0;34m\u001b[0m\u001b[0m\n\u001b[1;32m      8\u001b[0m \u001b[0;34m\u001b[0m\u001b[0m\n\u001b[0;32m----> 9\u001b[0;31m \u001b[0mprint\u001b[0m \u001b[0;34m(\u001b[0m\u001b[0mdoble_lista\u001b[0m\u001b[0;34m(\u001b[0m\u001b[0mn\u001b[0m\u001b[0;34m)\u001b[0m\u001b[0;34m)\u001b[0m\u001b[0;34m\u001b[0m\u001b[0;34m\u001b[0m\u001b[0m\n\u001b[0m",
      "\u001b[0;32m<ipython-input-61-9a449869a53d>\u001b[0m in \u001b[0;36mdoble_lista\u001b[0;34m(x)\u001b[0m\n\u001b[1;32m      3\u001b[0m     \u001b[0;32mfor\u001b[0m \u001b[0mi\u001b[0m \u001b[0;32min\u001b[0m \u001b[0mrange\u001b[0m\u001b[0;34m(\u001b[0m\u001b[0;36m0\u001b[0m\u001b[0;34m,\u001b[0m \u001b[0mlen\u001b[0m\u001b[0;34m(\u001b[0m\u001b[0mx\u001b[0m\u001b[0;34m)\u001b[0m\u001b[0;34m)\u001b[0m\u001b[0;34m:\u001b[0m\u001b[0;34m\u001b[0m\u001b[0;34m\u001b[0m\u001b[0m\n\u001b[1;32m      4\u001b[0m \u001b[0;34m\u001b[0m\u001b[0m\n\u001b[0;32m----> 5\u001b[0;31m         \u001b[0mx\u001b[0m\u001b[0;34m[\u001b[0m\u001b[0mi\u001b[0m\u001b[0;34m]\u001b[0m\u001b[0;34m=\u001b[0m\u001b[0mx\u001b[0m\u001b[0;34m[\u001b[0m\u001b[0mi\u001b[0m\u001b[0;34m]\u001b[0m\u001b[0;34m*\u001b[0m\u001b[0mx\u001b[0m\u001b[0;34m[\u001b[0m\u001b[0mi\u001b[0m\u001b[0;34m+\u001b[0m\u001b[0;36m1\u001b[0m\u001b[0;34m]\u001b[0m\u001b[0;34m\u001b[0m\u001b[0;34m\u001b[0m\u001b[0m\n\u001b[0m\u001b[1;32m      6\u001b[0m         \u001b[0mprint\u001b[0m \u001b[0;34m(\u001b[0m\u001b[0mx\u001b[0m\u001b[0;34m[\u001b[0m\u001b[0mi\u001b[0m\u001b[0;34m]\u001b[0m\u001b[0;34m+\u001b[0m\u001b[0mx\u001b[0m\u001b[0;34m[\u001b[0m\u001b[0mi\u001b[0m\u001b[0;34m+\u001b[0m\u001b[0;36m1\u001b[0m\u001b[0;34m]\u001b[0m\u001b[0;34m)\u001b[0m\u001b[0;34m\u001b[0m\u001b[0;34m\u001b[0m\u001b[0m\n\u001b[1;32m      7\u001b[0m     \u001b[0;32mreturn\u001b[0m \u001b[0mx\u001b[0m\u001b[0;34m\u001b[0m\u001b[0;34m\u001b[0m\u001b[0m\n",
      "\u001b[0;31mIndexError\u001b[0m: list index out of range"
     ]
    }
   ],
   "source": [
    "n = [3, 5, 7]\n",
    "def doble_lista(x):\n",
    "    for i in range(0, len(x)):\n",
    "        \n",
    "        x[i]=x[i]*x[i+1]\n",
    "        print (x[i]+x[i+1])\n",
    "    return x\n",
    "\n",
    "print (doble_lista(n))"
   ]
  },
  {
   "cell_type": "code",
   "execution_count": 36,
   "metadata": {},
   "outputs": [],
   "source": [
    "#condición inicial, tiempo, los parametros en eeste caso es B0, condinit=x\n",
    "def campoVec(x,t, parame):\n",
    "    return [x[3], x[4], x[5], parame*x[4],-parame*x[3],0]\n",
    "    "
   ]
  },
  {
   "cell_type": "code",
   "execution_count": 32,
   "metadata": {},
   "outputs": [],
   "source": [
    "def InitialC():\n",
    "    vx=rand() #numero aleatorio entre 0 y 1\n",
    "    vy=sqrt(1-vx**2)\n",
    "    return [0,0,0,vx, vy,0]"
   ]
  },
  {
   "cell_type": "code",
   "execution_count": 33,
   "metadata": {},
   "outputs": [
    {
     "data": {
      "text/plain": [
       "[0, 0, 0, 0.22540830758859431, 0.974264386534808, 0]"
      ]
     },
     "execution_count": 33,
     "metadata": {},
     "output_type": "execute_result"
    }
   ],
   "source": [
    "InitialC()"
   ]
  },
  {
   "cell_type": "code",
   "execution_count": 34,
   "metadata": {},
   "outputs": [],
   "source": [
    "t= linspace (0, 100, 1000001)"
   ]
  },
  {
   "cell_type": "code",
   "execution_count": 41,
   "metadata": {},
   "outputs": [],
   "source": [
    "xout = odeint(campoVec, InitialC(), t, args =(.5,))"
   ]
  },
  {
   "cell_type": "code",
   "execution_count": 42,
   "metadata": {},
   "outputs": [
    {
     "data": {
      "text/plain": [
       "array([[ 0.00000000e+00,  0.00000000e+00,  0.00000000e+00,\n",
       "         3.45035207e-01,  9.38589743e-01,  0.00000000e+00],\n",
       "       [ 3.45058671e-05,  9.38581117e-05,  0.00000000e+00,\n",
       "         3.45082136e-01,  9.38572490e-01,  0.00000000e+00],\n",
       "       [ 6.90164271e-05,  1.87714498e-04,  0.00000000e+00,\n",
       "         3.45129064e-01,  9.38555235e-01,  0.00000000e+00],\n",
       "       ...,\n",
       "       [-1.15310157e-01, -5.16900584e-01,  0.00000000e+00,\n",
       "         8.65849147e-02,  9.96244822e-01,  0.00000000e+00],\n",
       "       [-1.15301496e-01, -5.16800960e-01,  0.00000000e+00,\n",
       "         8.66347268e-02,  9.96240491e-01,  0.00000000e+00],\n",
       "       [-1.15292830e-01, -5.16701336e-01,  0.00000000e+00,\n",
       "         8.66845388e-02,  9.96236158e-01,  0.00000000e+00]])"
      ]
     },
     "execution_count": 42,
     "metadata": {},
     "output_type": "execute_result"
    }
   ],
   "source": [
    "xout"
   ]
  },
  {
   "cell_type": "code",
   "execution_count": 43,
   "metadata": {},
   "outputs": [
    {
     "data": {
      "text/plain": [
       "[<matplotlib.lines.Line2D at 0x7fddf9b76da0>]"
      ]
     },
     "execution_count": 43,
     "metadata": {},
     "output_type": "execute_result"
    },
    {
     "data": {
      "image/png": "[encoded data removed]",
      "text/plain": [
       "<Figure size 432x288 with 1 Axes>"
      ]
     },
     "metadata": {
      "needs_background": "light"
     },
     "output_type": "display_data"
    }
   ],
   "source": [
    "plot(xout[:,0],xout[:,1])"
   ]
  },
  {
   "cell_type": "code",
   "execution_count": 44,
   "metadata": {},
   "outputs": [
    {
     "data": {
      "image/png": "[encoded data removed]",
      "text/plain": [
       "<Figure size 432x288 with 1 Axes>"
      ]
     },
     "metadata": {
      "needs_background": "light"
     },
     "output_type": "display_data"
    }
   ],
   "source": [
    "for i in range (0,100):\n",
    "    xout= odeint(campoVec, InitialC(), t, args =(.5,))\n",
    "    plot(xout[:,0],xout[:,1])"
   ]
  },
  {
   "cell_type": "markdown",
   "metadata": {},
   "source": [
    "3. Realice una función que genere nombres de archivos con el siguiente formato: ```file_###.dat```, donde ```###``` es un número entre 0 y 999 que el usuario proporciona. Por ejemplo, supongamos que la función se llama ```generan_nombre(numero)``` y al utilizarla de la siguiente maneara ```genera_nombre(45)```proporciona el nombre de archivo: ```file_045.dat```.\n",
    "    1. Realice una función que proporciona un número aleatorio entre 0 y 999.\n",
    "    2. Utilice las dos funciones anteriores para generar 100 nombres de manera aleatoria. No importa si los nombres se repiten."
   ]
  },
  {
   "cell_type": "code",
   "execution_count": null,
   "metadata": {},
   "outputs": [],
   "source": [
    "def generaArchivo(numero):\n",
    "    a= convert(numero)\n",
    "    b=\"file_%s\"%a\n",
    "    f = open(b,\"w\") \n",
    "    f.close()"
   ]
  },
  {
   "cell_type": "code",
   "execution_count": null,
   "metadata": {},
   "outputs": [],
   "source": [
    "genereArchivo(992)"
   ]
  },
  {
   "cell_type": "code",
   "execution_count": 45,
   "metadata": {},
   "outputs": [],
   "source": [
    "def factorial (n):\n",
    "    if n== 0:\n",
    "        return 1\n",
    "    else: \n",
    "        i= 0\n",
    "        mul =1\n",
    "        while i<n:\n",
    "            i+=1\n",
    "            mul= mul*i\n",
    "    return mul"
   ]
  },
  {
   "cell_type": "code",
   "execution_count": 49,
   "metadata": {},
   "outputs": [
    {
     "data": {
      "text/plain": [
       "1"
      ]
     },
     "execution_count": 49,
     "metadata": {},
     "output_type": "execute_result"
    }
   ],
   "source": [
    "factorial (0)"
   ]
  },
  {
   "cell_type": "code",
   "execution_count": 47,
   "metadata": {},
   "outputs": [],
   "source": [
    "def mi_sinc(x,N_max=10):\n",
    "    n=0\n",
    "    suma = 0\n",
    "    while n< N_max:\n",
    "        suma = suma + (-1)**n/factorial(2*n+1)*x**(2*n)\n",
    "        n= n+1\n",
    "    return suma"
   ]
  },
  {
   "cell_type": "code",
   "execution_count": 48,
   "metadata": {},
   "outputs": [
    {
     "data": {
      "text/plain": [
       "1.2253257003851135e-16"
      ]
     },
     "execution_count": 48,
     "metadata": {},
     "output_type": "execute_result"
    }
   ],
   "source": [
    "mi_sinc(pi,20)"
   ]
  },
  {
   "cell_type": "code",
   "execution_count": null,
   "metadata": {},
   "outputs": [],
   "source": []
  }
 ],
 "metadata": {
  "kernelspec": {
   "display_name": "Python 3",
   "language": "python",
   "name": "python3"
  },
  "language_info": {
   "codemirror_mode": {
    "name": "ipython",
    "version": 3
   },
   "file_extension": ".py",
   "mimetype": "text/x-python",
   "name": "python",
   "nbconvert_exporter": "python",
   "pygments_lexer": "ipython3",
   "version": "3.7.1"
  }
 },
 "nbformat": 4,
 "nbformat_minor": 1
}
