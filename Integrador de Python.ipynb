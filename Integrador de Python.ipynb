{
 "cells": [
  {
   "cell_type": "markdown",
   "metadata": {},
   "source": [
    "# Integradores de Python\n",
    "\n",
    "En el notebook anterior implementamos tres integradores, pero en la actualidad casi todos los lenguajes de programación tiene implementados algunos integradores. En este notebook revisaremos uno de los integradores que ya están códificados en Python, por ejemplo `quad`, `dblquad` y `tplquad` además de contar con integradores de sistemas de ODE, por ejemplo `ode` y `odeint` "
   ]
  },
  {
   "cell_type": "code",
   "execution_count": 1,
   "metadata": {},
   "outputs": [],
   "source": [
    "from pylab import * # se importa la libreria pylab\n",
    "from scipy.integrate import * # se importa la libreria scipy.integrate\n",
    "from numpy import * # se importa numpy\n",
    "%matplotlib inline"
   ]
  },
  {
   "cell_type": "markdown",
   "metadata": {},
   "source": [
    "* ¿Qué paquetes tiene la librería `scipy` ?\n",
    "* En particular `scipy.integrate`"
   ]
  },
  {
   "cell_type": "markdown",
   "metadata": {},
   "source": [
    "## `quad` "
   ]
  },
  {
   "cell_type": "code",
   "execution_count": 2,
   "metadata": {},
   "outputs": [],
   "source": [
    "import scipy.integrate"
   ]
  },
  {
   "cell_type": "code",
   "execution_count": 3,
   "metadata": {},
   "outputs": [],
   "source": [
    "scipy.integrate?"
   ]
  },
  {
   "cell_type": "code",
   "execution_count": null,
   "metadata": {},
   "outputs": [],
   "source": [
    "quad?"
   ]
  },
  {
   "cell_type": "markdown",
   "metadata": {},
   "source": [
    "Comenzaremos por el primer integrador que se aparece en la documentación de `numpy`, es decir `quad` para ello integremos la siguiente función: $f(x) = \\alpha x^2 + \\beta$, de $a$ a $b$,es decir, $\\displaystyle \\int_{a} ^{b} \\alpha x^2 + \\beta dx $ con $a = 0$ , $b=2$ y $\\alpha = 1$ y $\\beta = 3$"
   ]
  },
  {
   "cell_type": "markdown",
   "metadata": {},
   "source": [
    "Definamos $f(x) = \\alpha x^2 + \\beta$"
   ]
  },
  {
   "cell_type": "code",
   "execution_count": null,
   "metadata": {},
   "outputs": [],
   "source": [
    "def f(x,a,b):\n",
    "    return a*x**2 + b"
   ]
  },
  {
   "cell_type": "code",
   "execution_count": null,
   "metadata": {},
   "outputs": [],
   "source": [
    "f(2,1,3)"
   ]
  },
  {
   "cell_type": "markdown",
   "metadata": {},
   "source": [
    "Ahora integremos dicha función con los límites ya mencionados "
   ]
  },
  {
   "cell_type": "code",
   "execution_count": null,
   "metadata": {},
   "outputs": [],
   "source": [
    "quad(f, 0.0, 2.0, (1.0, 3.0,))"
   ]
  },
  {
   "cell_type": "markdown",
   "metadata": {},
   "source": [
    "* ¿Qué es la salida del integrador?\n",
    "* ¿Cuál es la solución analítica de dicha integral?\n",
    "* ¿El resultado es correcto?"
   ]
  },
  {
   "cell_type": "code",
   "execution_count": null,
   "metadata": {},
   "outputs": [],
   "source": [
    "26.0/3.0"
   ]
  },
  {
   "cell_type": "markdown",
   "metadata": {},
   "source": [
    "Ahora integraremos una gaussiana de menos infinito  a infinito, es decir:\n",
    "$$\\displaystyle \\int_{-\\infty} ^{\\infty} \\exp(-x^2) dx $$\n",
    "\n",
    "\n",
    "* Escriba la solución analítica de dicha integral"
   ]
  },
  {
   "cell_type": "code",
   "execution_count": null,
   "metadata": {},
   "outputs": [],
   "source": [
    "### Definimos la gaussiana\n",
    "def g(x):\n",
    "    return exp(-x**2)"
   ]
  },
  {
   "cell_type": "code",
   "execution_count": null,
   "metadata": {},
   "outputs": [],
   "source": [
    "### Integramos dicha función\n",
    "quad(g, -inf, inf)"
   ]
  },
  {
   "cell_type": "markdown",
   "metadata": {},
   "source": [
    "* ¿El resultado es correcto?\n",
    "* grafique la siguiente función $${\\displaystyle f(x, \\mu ,\\sigma ^{2}, \\alpha)=\\alpha \\exp \\left({-{\\frac {(x-\\mu )^{2}}{2\\sigma ^{2}}}}\\right)} $$ para distintos valores de $\\alpha > 0$, $\\mu$ y $\\sigma > -1$\n",
    "\n",
    "* ¿Quá pasa si $\\alpha =\\dfrac{1}{\\sigma \\sqrt{2\\pi}}$? \n",
    "* Integre dicha función de manera analítica y numericamente con `quad` de menos infinito a infinito\n",
    "\n"
   ]
  },
  {
   "cell_type": "markdown",
   "metadata": {
    "collapsed": true
   },
   "source": [
    "## `dblquad` \n",
    "\n",
    "Consulte la documentación de `dblquad` e integre de numericamente y analiticamenta los siguiente:\n",
    "\n",
    "* Vemos que en la documentación se integra $\\displaystyle \\int_{0}^{1/2} \\displaystyle \\int_{0}^{1-2y} xy\\,dy\\,dx = \\dfrac{1}{96}$\n",
    "* $ \\displaystyle \\int_{-1}^{1} \\displaystyle \\int_{0}^{1} x^2 + y^2 \\,dx \\,dy$ \n",
    "* $\\displaystyle \\int_{0}^{1} \\displaystyle \\int_{0}^{\\sqrt{1-x^2}} \\sqrt{1-y^2}\\,dy\\,dx$\n"
   ]
  },
  {
   "cell_type": "code",
   "execution_count": null,
   "metadata": {},
   "outputs": [],
   "source": [
    "dblquad(lambda x, y: x*y, 0, 0.5, lambda x: 0, lambda x: 1-2*x)"
   ]
  },
  {
   "cell_type": "code",
   "execution_count": null,
   "metadata": {},
   "outputs": [],
   "source": [
    "1.0/96"
   ]
  },
  {
   "cell_type": "markdown",
   "metadata": {},
   "source": [
    "* Investigue que es `lambda`"
   ]
  },
  {
   "cell_type": "markdown",
   "metadata": {},
   "source": [
    "## `tplquad` \n",
    "\n",
    "Realice lo mismo para`tplquad` e integre de numericamente y analiticamenta las siguientes:\n",
    "\n",
    "* $ \\displaystyle \\int_{0}^{1/3} \\displaystyle \\int_{-1/2}^{0} \\displaystyle \\int_{0}^{1} (x + 2y + 3z)^2 \\,dx \\,dy\\,dz$ \n",
    "* $ \\displaystyle \\int_{-1}^{1} \\displaystyle \\int_{-\\sqrt{1-x^2}}^{\\sqrt{1-x^2}} \\displaystyle \\int_{-\\sqrt{1-x^2-y^2}}^{\\sqrt{1-x^2-y^2}}  \\,dx \\,dy\\,dz$ "
   ]
  },
  {
   "cell_type": "markdown",
   "metadata": {
    "collapsed": true
   },
   "source": [
    "## Ode\n",
    "\n",
    "En `scipy` tenemos dos integradores de ODE, `ode` y `odeint`\n",
    "\n",
    "* Consulte la documentación de cada uno de estos integradores"
   ]
  },
  {
   "cell_type": "code",
   "execution_count": null,
   "metadata": {},
   "outputs": [],
   "source": [
    "??odeint"
   ]
  },
  {
   "cell_type": "markdown",
   "metadata": {},
   "source": [
    "Comenzaremos por integrar el oscilador armónico, definamos la función `oscilador`"
   ]
  },
  {
   "cell_type": "code",
   "execution_count": null,
   "metadata": {},
   "outputs": [],
   "source": [
    "def oscilador(x, t, para):\n",
    "    return array((x[1],-(para**2)*(x[0]) ))"
   ]
  },
  {
   "cell_type": "markdown",
   "metadata": {},
   "source": [
    "Integremos el oscilador con `ode`"
   ]
  },
  {
   "cell_type": "code",
   "execution_count": null,
   "metadata": {},
   "outputs": [],
   "source": [
    "t = linspace(0,100,1001)"
   ]
  },
  {
   "cell_type": "code",
   "execution_count": null,
   "metadata": {},
   "outputs": [],
   "source": [
    "t"
   ]
  },
  {
   "cell_type": "code",
   "execution_count": null,
   "metadata": {},
   "outputs": [],
   "source": [
    "xout = odeint(oscilador, [1.0, 0.0], t, args=(1.0,))"
   ]
  },
  {
   "cell_type": "markdown",
   "metadata": {},
   "source": [
    "* ¿Cuál es la salida de `odeint`?"
   ]
  },
  {
   "cell_type": "code",
   "execution_count": null,
   "metadata": {},
   "outputs": [],
   "source": [
    "xout"
   ]
  },
  {
   "cell_type": "code",
   "execution_count": null,
   "metadata": {},
   "outputs": [],
   "source": [
    "type(xout)"
   ]
  },
  {
   "cell_type": "code",
   "execution_count": null,
   "metadata": {},
   "outputs": [],
   "source": [
    "plot(xout[:,0], xout[:,1],)\n",
    "title(\"Espacio de fases del oscilador armonico\")\n",
    "grid(True)"
   ]
  },
  {
   "cell_type": "code",
   "execution_count": null,
   "metadata": {},
   "outputs": [],
   "source": [
    "plot(t, xout[:,0])\n",
    "title(\"Posicion en funcion del tiempo\")"
   ]
  },
  {
   "cell_type": "markdown",
   "metadata": {},
   "source": [
    "Grafiquemos la enegía como función del tiempo"
   ]
  },
  {
   "cell_type": "code",
   "execution_count": null,
   "metadata": {},
   "outputs": [],
   "source": [
    "def energia(x):\n",
    "    return 0.5*x[:,1]**2 + 0.5*x[:,0]**2 \n",
    "\n",
    "e=energia(xout)\n",
    "plot(t,e)\n",
    "title(\"Enegia como funcion del tiempo\")"
   ]
  },
  {
   "cell_type": "markdown",
   "metadata": {},
   "source": [
    "Importemos nuestro archivo `integradores.py` el cual es un script que contiene nuestros funciones `metodo_euler` y `rg4` que son los integradores del notebook anterior"
   ]
  },
  {
   "cell_type": "code",
   "execution_count": null,
   "metadata": {},
   "outputs": [],
   "source": [
    "import integradores as myint"
   ]
  },
  {
   "cell_type": "markdown",
   "metadata": {},
   "source": [
    "#### Integremos el oscilador armónico con el método de Euler"
   ]
  },
  {
   "cell_type": "code",
   "execution_count": null,
   "metadata": {},
   "outputs": [],
   "source": [
    "time, oute, = myint.metodo_euler(oscilador, 0.0, 100, [1.0, 0.0], 0.1, 1.0)\n",
    "\n",
    "xe = []\n",
    "ve = []\n",
    "for i in oute:\n",
    "    xe.append(i[0])\n",
    "    ve.append(i[1])\n",
    "\n",
    "plot(xe, ve)\n",
    "title(\"Integracion con Euler\")\n",
    "grid(True)"
   ]
  },
  {
   "cell_type": "markdown",
   "metadata": {},
   "source": [
    "#### Integremos el oscilador armónico con el método de Runge-Kutta"
   ]
  },
  {
   "cell_type": "code",
   "execution_count": null,
   "metadata": {},
   "outputs": [],
   "source": [
    "time, out, = myint.rg4(oscilador, 0.0, 100, [1.0, 0.0], 0.1, 1.0)\n",
    "\n",
    "xr = []\n",
    "vr = []\n",
    "for i in out:\n",
    "    xr.append(i[0])\n",
    "    vr.append(i[1])\n",
    "\n",
    "plot(xr, vr)\n",
    "title(\"Integracion con RG4\")\n",
    "grid(True)"
   ]
  },
  {
   "cell_type": "markdown",
   "metadata": {},
   "source": [
    "Ahora grafiquemos la energia como funcion del tiempo de cada uno de los integradores"
   ]
  },
  {
   "cell_type": "code",
   "execution_count": null,
   "metadata": {},
   "outputs": [],
   "source": [
    "### DEfinimos una función que calcule la energía para nuestros integradores\n",
    "def energiaee(x,v):\n",
    "    i=0\n",
    "    suma = []\n",
    "    while i < len(x):\n",
    "        suma.append(0.5*x[i]**2 + 0.5*v[i]**2)\n",
    "        i +=1\n",
    "    return suma"
   ]
  },
  {
   "cell_type": "code",
   "execution_count": null,
   "metadata": {},
   "outputs": [],
   "source": [
    "er = energiaee(xr, vr) \n",
    "ee = energiaee(xe, ve)"
   ]
  },
  {
   "cell_type": "code",
   "execution_count": null,
   "metadata": {},
   "outputs": [],
   "source": [
    "plot(t, e, label='odeint')\n",
    "plot(time, ee, label='euler')\n",
    "plot(time, er, label='rg4')\n",
    "title(\"Energia con diferentes integradores\")\n",
    "legend()"
   ]
  },
  {
   "cell_type": "markdown",
   "metadata": {},
   "source": [
    "Ahora integremos el péndulo \n",
    "\n",
    "\\begin{equation}\n",
    " \\dfrac{d^2 x(t)}{d t^2} + \\dfrac{g}{\\ell} \\sin(x(t)) = 0\n",
    "\\end{equation}\n",
    "\n",
    "Cuyo campo vectorial es:\n",
    "\n",
    "\\begin{eqnarray}\n",
    "v = \\dot{x} \\\\\n",
    "\\dot{v} = -\\omega ^2\\sin(x)\n",
    "\\end{eqnarray}"
   ]
  },
  {
   "cell_type": "code",
   "execution_count": null,
   "metadata": {},
   "outputs": [],
   "source": [
    "array([9,0])"
   ]
  },
  {
   "cell_type": "code",
   "execution_count": null,
   "metadata": {},
   "outputs": [],
   "source": [
    "def pendulo(x,t,para):\n",
    "    return array((x[1],-(para**2)*(sin(x[0])) ))"
   ]
  },
  {
   "cell_type": "code",
   "execution_count": null,
   "metadata": {},
   "outputs": [],
   "source": [
    "t=linspace(0,10,101)\n",
    "xpout = odeint(pendulo, [pi/2, 1.0], t, args=(1.0,))"
   ]
  },
  {
   "cell_type": "code",
   "execution_count": null,
   "metadata": {},
   "outputs": [],
   "source": [
    "plot(xpout[:,0], xpout[:,1])\n",
    "title(\"Espacio fase el pendulo simple\")"
   ]
  },
  {
   "cell_type": "code",
   "execution_count": null,
   "metadata": {},
   "outputs": [],
   "source": [
    "plot(t, xpout[:,1])\n",
    "title(\"Posicion en funcion del tiempo\")"
   ]
  },
  {
   "cell_type": "code",
   "execution_count": null,
   "metadata": {},
   "outputs": [],
   "source": [
    "def energiapen(x):\n",
    "    return 0.5*x[:,1]**2 - (cos(x[:,0])) "
   ]
  },
  {
   "cell_type": "code",
   "execution_count": null,
   "metadata": {},
   "outputs": [],
   "source": [
    "ep = energiapen(xpout)"
   ]
  },
  {
   "cell_type": "code",
   "execution_count": null,
   "metadata": {},
   "outputs": [],
   "source": [
    "plot(t,ep)\n",
    "title(\"Energia como funcion del tiempo\")"
   ]
  },
  {
   "cell_type": "code",
   "execution_count": null,
   "metadata": {},
   "outputs": [],
   "source": [
    "### Generemos un número aleatorio entre -10 y -10\n",
    "random.uniform(-10, 10)"
   ]
  },
  {
   "cell_type": "markdown",
   "metadata": {},
   "source": [
    "Grafiquemos el péndulo simple para diferentes condiciones iniciales"
   ]
  },
  {
   "cell_type": "code",
   "execution_count": null,
   "metadata": {},
   "outputs": [],
   "source": [
    "for i in range(300):\n",
    "    x=[random.uniform(-pi, pi), random.uniform(-2, 2)]\n",
    "    xpout = odeint(pendulo, x, t, args=(1.0,))\n",
    "    plot(xpout[:,0], xpout[:,1])\n",
    "    xlim(-pi,pi)"
   ]
  },
  {
   "cell_type": "markdown",
   "metadata": {
    "collapsed": true
   },
   "source": [
    "* ¿Cuál es la intepretación física de la gráfica anterior?\n",
    "* Comente el respectivo código"
   ]
  },
  {
   "cell_type": "markdown",
   "metadata": {},
   "source": [
    "### Para el siguiente sistemas de ecuaciones utilice el integrador de Euler, Runge-Kutta y odeint. \n",
    "\n",
    "#### Considere el modelo de Lotka-Volterra:\n",
    "\n",
    "\\begin{eqnarray}\n",
    "\\dot{x} = 0.6x − 1.1xy \\\\\n",
    "\\dot{y} = xy − y\n",
    "\\end{eqnarray}\n",
    "\n",
    "* Utilice odeint para encontrar la solución en el espacio fase para diferentes condiciones iniciales que representen la dinámica del sistema, es decir, encuentre soluciones en el plano xy.\n",
    "\n",
    "* Cómo se ven las soluciones en el plano (t,x) y (t,y) para una condición inicial que haga varios ciclos. Explique sus resultados.\n",
    "\n",
    "* Obtenga las mismas soluciones utilizando los integradores de Euler y Runge-Kutta. ¿Cuales son los valores del paso h para obtener los mismos resultados que en el inciso anterior?\n",
    "\n",
    "#### Considere el oscilador armónico armotiguiado y amortiguado con forzamiento (vistos en el notebook anterior)\n",
    "\n",
    "\\begin{equation}\n",
    "\\dfrac{d^2 x(t)}{d t^2} + \\beta \\dfrac{d x(t)}{d t} + \\omega_0 ^2 x(t)=0\n",
    "\\end{equation}\n",
    "\n",
    "\\begin{equation}\n",
    "\\dfrac{d^2 x(t)}{d t^2} + \\beta \\dfrac{d x(t)}{d t} + \\omega_0 ^2 x(t) = F_0 \\cos(\\omega t)\n",
    "\\end{equation}\n",
    "\n",
    "* Escriba un script `oscilador.py` con dichas funciones\n",
    "\n",
    "Si definimos $\\Delta = \\beta ^2 - 4\\omega_0 ^2 $\n",
    "* Considere diferentes condiciones iniciales y valores para $\\beta < 0$ y $ \\omega_0$ tal que $\\Delta >0 $, e integre con  Euler, Runge-Kutta y odeint\n",
    "* Realice lo mismo para $\\Delta < 0$\n",
    "* Y $\\Delta = 0 $\n",
    "* Grafique las soluciones en el plano (t,x) y (t,v) para cada uno de los casos\n",
    "* Grafique para cada caso el espacio de fases\n",
    "* Y la energía para cado caso con los tres integradores\n",
    "* Para el oscilador con amortiguado con forzamiento considere $F_0 = 1$ y $\\omega$ un número aleatorio e integre con odeint y realice la graficas antes mencionadas\n",
    "* ¿Qué pasa si $\\omega_0 = \\omega$?"
   ]
  },
  {
   "cell_type": "code",
   "execution_count": null,
   "metadata": {},
   "outputs": [],
   "source": []
  }
 ],
 "metadata": {
  "kernelspec": {
   "display_name": "Python 3",
   "language": "python",
   "name": "python3"
  },
  "language_info": {
   "codemirror_mode": {
    "name": "ipython",
    "version": 3
   },
   "file_extension": ".py",
   "mimetype": "text/x-python",
   "name": "python",
   "nbconvert_exporter": "python",
   "pygments_lexer": "ipython3",
   "version": "3.7.1"
  }
 },
 "nbformat": 4,
 "nbformat_minor": 2
}
